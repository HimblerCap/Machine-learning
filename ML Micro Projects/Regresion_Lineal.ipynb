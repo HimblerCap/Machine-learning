{
 "cells": [
  {
   "cell_type": "markdown",
   "source": "",
   "metadata": {
    "tags": [],
    "cell_id": "00000-58f4ec09-ddb5-4a40-96cc-e2c7d11da5e0",
    "deepnote_cell_type": "markdown"
   }
  },
  {
   "cell_type": "markdown",
   "source": "<h1 style=\"font-size:42px; text-align:center; margin-bottom:30px;\"><span style=\"color:SteelBlue\">Regresión Lineal</span></h1>\n<hr>",
   "metadata": {
    "tags": [],
    "cell_id": "00000-9d22efa7-c1d7-445d-a45e-24ac0b4eeb89",
    "deepnote_cell_type": "markdown"
   }
  },
  {
   "cell_type": "markdown",
   "source": "La regresión lineal es un algoritmo de aprendizaje supervisado que es utilizado para aproximar la relación existente entre una variables dependiente Y, m variables independientes X y un término aleatorio 𝜀 que describe medias o observaciones de ruido y procesos potencialmente no modelados. ",
   "metadata": {
    "tags": [],
    "cell_id": "00002-dda4e99a-3179-4d09-8f45-21c3c99bb8e8",
    "deepnote_cell_type": "markdown"
   }
  },
  {
   "cell_type": "markdown",
   "source": "<center>\n\n![Picture title](Ecuation.png)\n</center>",
   "metadata": {
    "tags": [],
    "cell_id": "00004-3bd023f8-348a-4545-90e3-00527806845b",
    "deepnote_cell_type": "markdown"
   }
  },
  {
   "cell_type": "markdown",
   "source": "Este algoritmo es utilizado principalmente para realizar predicciones en base a datos anteriores, por ejemplo saber en que temporada tendre mayor cantidad de vendas basandome en un registro historico.",
   "metadata": {
    "tags": [],
    "cell_id": "00004-855aa830-8690-4dd5-94c7-ef2d7b46470c",
    "deepnote_cell_type": "markdown"
   }
  },
  {
   "cell_type": "markdown",
   "source": "A continuación prediciremos el precio de una pizza basandonos en las caracteristicas de esta. El dataset es obtenido de la página de Kaggle, el cual como especifican, es un dataset incompleto, sin embargo puede ser utilizado para aprender y estudiar algorimos de Machine Learning. Para este trabajo utilizaremos la V.1.0 de este dataset y analizaremos que tan eficiente es la regresion lineal para analizar este modelo con los datos obtenidos. Antes de hacer el analisis de nuestros datos e implementación de nuestro modelo, importaremos las librerías a utilizar.",
   "metadata": {
    "tags": [],
    "cell_id": "00005-d2dd87e8-8f18-4ba9-a7c5-a6690abe211e",
    "deepnote_cell_type": "markdown"
   }
  },
  {
   "cell_type": "code",
   "metadata": {
    "tags": [],
    "cell_id": "00000-324cfa36-a68d-479c-8cf8-1eb3ead98d39",
    "deepnote_to_be_reexecuted": false,
    "source_hash": "4a7856f9",
    "execution_start": 1633279293162,
    "execution_millis": 27,
    "deepnote_cell_type": "code"
   },
   "source": "import numpy as np\nimport pandas as pd\nimport matplotlib.pyplot as plt\nimport seaborn as sns\nfrom sklearn.model_selection import train_test_split\nfrom sklearn.preprocessing import LabelEncoder\nfrom sklearn.preprocessing import StandardScaler\nfrom sklearn.linear_model import LinearRegression\nfrom sklearn.model_selection import cross_val_score\nfrom sklearn.metrics import mean_squared_error\nfrom sklearn.metrics import confusion_matrix\n%matplotlib inline",
   "execution_count": null,
   "outputs": []
  },
  {
   "cell_type": "markdown",
   "source": "## 1. Analisis y limpieza de datos ",
   "metadata": {
    "tags": [],
    "cell_id": "00006-a1d72c85-94ef-4083-9304-d407dbc8c721",
    "deepnote_cell_type": "markdown"
   }
  },
  {
   "cell_type": "markdown",
   "source": "Antes de implementar nuestro modelo, analizaremos y entenderemos con que datos estamos trabajando, para lograr este objetivo, importaremos nuestro dataset y seleccionaremos 10 filas de manera aleatoria. ",
   "metadata": {
    "tags": [],
    "cell_id": "00008-78007381-713f-4e56-9f63-d67a93b8d111",
    "deepnote_cell_type": "markdown"
   }
  },
  {
   "cell_type": "code",
   "metadata": {
    "tags": [],
    "cell_id": "00006-ed5b11cc-36b1-4e9c-a06c-14f5deef4e39",
    "deepnote_to_be_reexecuted": false,
    "source_hash": "d0d4b1d2",
    "execution_start": 1633277790521,
    "execution_millis": 257,
    "deepnote_cell_type": "code"
   },
   "source": "df = pd.read_csv('./Datasets/pizza.csv', encoding='utf-8')\ndf.sample(10)",
   "execution_count": null,
   "outputs": [
    {
     "output_type": "execute_result",
     "execution_count": 46,
     "data": {
      "application/vnd.deepnote.dataframe.v2+json": {
       "row_count": 10,
       "column_count": 8,
       "columns": [
        {
         "name": "company",
         "dtype": "object",
         "stats": {
          "unique_count": 3,
          "nan_count": 0,
          "categories": [
           {
            "name": "E",
            "count": 5
           },
           {
            "name": "C",
            "count": 3
           },
           {
            "name": "D",
            "count": 2
           }
          ]
         }
        },
        {
         "name": "price_rupiah",
         "dtype": "object",
         "stats": {
          "unique_count": 9,
          "nan_count": 0,
          "categories": [
           {
            "name": "Rp46,000",
            "count": 2
           },
           {
            "name": "Rp31,000",
            "count": 1
           },
           {
            "name": "7 others",
            "count": 7
           }
          ]
         }
        },
        {
         "name": "diameter",
         "dtype": "float64",
         "stats": {
          "unique_count": 5,
          "nan_count": 0,
          "min": "8.0",
          "max": "17.0",
          "histogram": [
           {
            "bin_start": 8,
            "bin_end": 8.9,
            "count": 4
           },
           {
            "bin_start": 8.9,
            "bin_end": 9.8,
            "count": 0
           },
           {
            "bin_start": 9.8,
            "bin_end": 10.7,
            "count": 0
           },
           {
            "bin_start": 10.7,
            "bin_end": 11.6,
            "count": 0
           },
           {
            "bin_start": 11.6,
            "bin_end": 12.5,
            "count": 4
           },
           {
            "bin_start": 12.5,
            "bin_end": 13.4,
            "count": 0
           },
           {
            "bin_start": 13.4,
            "bin_end": 14.3,
            "count": 1
           },
           {
            "bin_start": 14.3,
            "bin_end": 15.2,
            "count": 0
           },
           {
            "bin_start": 15.2,
            "bin_end": 16.1,
            "count": 0
           },
           {
            "bin_start": 16.1,
            "bin_end": 17,
            "count": 1
           }
          ]
         }
        },
        {
         "name": "topping",
         "dtype": "object",
         "stats": {
          "unique_count": 7,
          "nan_count": 0,
          "categories": [
           {
            "name": "mushrooms",
            "count": 2
           },
           {
            "name": "mozzarella",
            "count": 2
           },
           {
            "name": "5 others",
            "count": 6
           }
          ]
         }
        },
        {
         "name": "variant",
         "dtype": "object",
         "stats": {
          "unique_count": 6,
          "nan_count": 0,
          "categories": [
           {
            "name": "classic",
            "count": 4
           },
           {
            "name": "meat_lovers",
            "count": 2
           },
           {
            "name": "4 others",
            "count": 4
           }
          ]
         }
        },
        {
         "name": "size",
         "dtype": "object",
         "stats": {
          "unique_count": 5,
          "nan_count": 0,
          "categories": [
           {
            "name": "small",
            "count": 3
           },
           {
            "name": "medium",
            "count": 3
           },
           {
            "name": "3 others",
            "count": 4
           }
          ]
         }
        },
        {
         "name": "extra_sauce",
         "dtype": "object",
         "stats": {
          "unique_count": 2,
          "nan_count": 0,
          "categories": [
           {
            "name": "yes",
            "count": 9
           },
           {
            "name": "no",
            "count": 1
           }
          ]
         }
        },
        {
         "name": "extra_cheese",
         "dtype": "object",
         "stats": {
          "unique_count": 2,
          "nan_count": 0,
          "categories": [
           {
            "name": "yes",
            "count": 7
           },
           {
            "name": "no",
            "count": 3
           }
          ]
         }
        },
        {
         "name": "_deepnote_index_column",
         "dtype": "int64"
        }
       ],
       "rows_top": [
        {
         "company": "E",
         "price_rupiah": "Rp31,000",
         "diameter": 8.5,
         "topping": "mushrooms",
         "variant": "classic",
         "size": "small",
         "extra_sauce": "yes",
         "extra_cheese": "yes",
         "_deepnote_index_column": 106
        },
        {
         "company": "C",
         "price_rupiah": "Rp39,000",
         "diameter": 8.5,
         "topping": "tuna",
         "variant": "spicy_tuna",
         "size": "small",
         "extra_sauce": "yes",
         "extra_cheese": "yes",
         "_deepnote_index_column": 49
        },
        {
         "company": "E",
         "price_rupiah": "Rp119,000",
         "diameter": 17,
         "topping": "mushrooms",
         "variant": "new_york",
         "size": "XL",
         "extra_sauce": "yes",
         "extra_cheese": "no",
         "_deepnote_index_column": 116
        },
        {
         "company": "D",
         "price_rupiah": "Rp90,000",
         "diameter": 12,
         "topping": "mozzarella",
         "variant": "meat_lovers",
         "size": "reguler",
         "extra_sauce": "yes",
         "extra_cheese": "yes",
         "_deepnote_index_column": 83
        },
        {
         "company": "C",
         "price_rupiah": "Rp60,000",
         "diameter": 12,
         "topping": "beef",
         "variant": "american_classic",
         "size": "medium",
         "extra_sauce": "yes",
         "extra_cheese": "no",
         "_deepnote_index_column": 74
        },
        {
         "company": "E",
         "price_rupiah": "Rp46,000",
         "diameter": 12,
         "topping": "mozzarella",
         "variant": "classic",
         "size": "medium",
         "extra_sauce": "yes",
         "extra_cheese": "yes",
         "_deepnote_index_column": 113
        },
        {
         "company": "E",
         "price_rupiah": "Rp46,000",
         "diameter": 12,
         "topping": "chicken",
         "variant": "classic",
         "size": "medium",
         "extra_sauce": "yes",
         "extra_cheese": "no",
         "_deepnote_index_column": 101
        },
        {
         "company": "D",
         "price_rupiah": "Rp70,000",
         "diameter": 8,
         "topping": "chicken",
         "variant": "meat_lovers",
         "size": "reguler",
         "extra_sauce": "yes",
         "extra_cheese": "yes",
         "_deepnote_index_column": 81
        },
        {
         "company": "E",
         "price_rupiah": "Rp75,000",
         "diameter": 8.5,
         "topping": "smoked beef",
         "variant": "classic",
         "size": "small",
         "extra_sauce": "yes",
         "extra_cheese": "yes",
         "_deepnote_index_column": 118
        },
        {
         "company": "C",
         "price_rupiah": "Rp99,000",
         "diameter": 14,
         "topping": "sausage",
         "variant": "BBQ_sausage",
         "size": "large",
         "extra_sauce": "no",
         "extra_cheese": "yes",
         "_deepnote_index_column": 57
        }
       ],
       "rows_bottom": null
      },
      "text/plain": "    company price_rupiah  diameter      topping           variant     size  \\\n106       E     Rp31,000       8.5    mushrooms           classic    small   \n49        C     Rp39,000       8.5         tuna        spicy_tuna    small   \n116       E    Rp119,000      17.0    mushrooms          new_york       XL   \n83        D     Rp90,000      12.0   mozzarella       meat_lovers  reguler   \n74        C     Rp60,000      12.0         beef  american_classic   medium   \n113       E     Rp46,000      12.0   mozzarella           classic   medium   \n101       E     Rp46,000      12.0      chicken           classic   medium   \n81        D     Rp70,000       8.0      chicken       meat_lovers  reguler   \n118       E     Rp75,000       8.5  smoked beef           classic    small   \n57        C     Rp99,000      14.0      sausage       BBQ_sausage    large   \n\n    extra_sauce extra_cheese  \n106         yes          yes  \n49          yes          yes  \n116         yes           no  \n83          yes          yes  \n74          yes           no  \n113         yes          yes  \n101         yes           no  \n81          yes          yes  \n118         yes          yes  \n57           no          yes  ",
      "text/html": "<div>\n<style scoped>\n    .dataframe tbody tr th:only-of-type {\n        vertical-align: middle;\n    }\n\n    .dataframe tbody tr th {\n        vertical-align: top;\n    }\n\n    .dataframe thead th {\n        text-align: right;\n    }\n</style>\n<table border=\"1\" class=\"dataframe\">\n  <thead>\n    <tr style=\"text-align: right;\">\n      <th></th>\n      <th>company</th>\n      <th>price_rupiah</th>\n      <th>diameter</th>\n      <th>topping</th>\n      <th>variant</th>\n      <th>size</th>\n      <th>extra_sauce</th>\n      <th>extra_cheese</th>\n    </tr>\n  </thead>\n  <tbody>\n    <tr>\n      <th>106</th>\n      <td>E</td>\n      <td>Rp31,000</td>\n      <td>8.5</td>\n      <td>mushrooms</td>\n      <td>classic</td>\n      <td>small</td>\n      <td>yes</td>\n      <td>yes</td>\n    </tr>\n    <tr>\n      <th>49</th>\n      <td>C</td>\n      <td>Rp39,000</td>\n      <td>8.5</td>\n      <td>tuna</td>\n      <td>spicy_tuna</td>\n      <td>small</td>\n      <td>yes</td>\n      <td>yes</td>\n    </tr>\n    <tr>\n      <th>116</th>\n      <td>E</td>\n      <td>Rp119,000</td>\n      <td>17.0</td>\n      <td>mushrooms</td>\n      <td>new_york</td>\n      <td>XL</td>\n      <td>yes</td>\n      <td>no</td>\n    </tr>\n    <tr>\n      <th>83</th>\n      <td>D</td>\n      <td>Rp90,000</td>\n      <td>12.0</td>\n      <td>mozzarella</td>\n      <td>meat_lovers</td>\n      <td>reguler</td>\n      <td>yes</td>\n      <td>yes</td>\n    </tr>\n    <tr>\n      <th>74</th>\n      <td>C</td>\n      <td>Rp60,000</td>\n      <td>12.0</td>\n      <td>beef</td>\n      <td>american_classic</td>\n      <td>medium</td>\n      <td>yes</td>\n      <td>no</td>\n    </tr>\n    <tr>\n      <th>113</th>\n      <td>E</td>\n      <td>Rp46,000</td>\n      <td>12.0</td>\n      <td>mozzarella</td>\n      <td>classic</td>\n      <td>medium</td>\n      <td>yes</td>\n      <td>yes</td>\n    </tr>\n    <tr>\n      <th>101</th>\n      <td>E</td>\n      <td>Rp46,000</td>\n      <td>12.0</td>\n      <td>chicken</td>\n      <td>classic</td>\n      <td>medium</td>\n      <td>yes</td>\n      <td>no</td>\n    </tr>\n    <tr>\n      <th>81</th>\n      <td>D</td>\n      <td>Rp70,000</td>\n      <td>8.0</td>\n      <td>chicken</td>\n      <td>meat_lovers</td>\n      <td>reguler</td>\n      <td>yes</td>\n      <td>yes</td>\n    </tr>\n    <tr>\n      <th>118</th>\n      <td>E</td>\n      <td>Rp75,000</td>\n      <td>8.5</td>\n      <td>smoked beef</td>\n      <td>classic</td>\n      <td>small</td>\n      <td>yes</td>\n      <td>yes</td>\n    </tr>\n    <tr>\n      <th>57</th>\n      <td>C</td>\n      <td>Rp99,000</td>\n      <td>14.0</td>\n      <td>sausage</td>\n      <td>BBQ_sausage</td>\n      <td>large</td>\n      <td>no</td>\n      <td>yes</td>\n    </tr>\n  </tbody>\n</table>\n</div>"
     },
     "metadata": {}
    }
   ]
  },
  {
   "cell_type": "code",
   "metadata": {
    "tags": [],
    "cell_id": "00008-51c55027-a89f-46ef-b977-dbfecb56fad7",
    "deepnote_to_be_reexecuted": false,
    "source_hash": "14f60b8f",
    "execution_start": 1633277793095,
    "execution_millis": 13,
    "deepnote_cell_type": "code"
   },
   "source": "df.shape",
   "execution_count": null,
   "outputs": [
    {
     "output_type": "execute_result",
     "execution_count": 47,
     "data": {
      "text/plain": "(129, 8)"
     },
     "metadata": {}
    }
   ]
  },
  {
   "cell_type": "markdown",
   "source": "Tenemos un dataset que cuenta con 129 ejemplos de pizzas y 8 features. Entre las features tenemos la compañia que es quien produce la pizza, el precio de la pizza el cual se encuentra en rupiah, el diametro de la pizza que se encuentra en libras, la adicion que tiene la pizza, la clase a la que pertenece, el tamaño y por último si tiene salsa extra y queso.",
   "metadata": {
    "tags": [],
    "cell_id": "00011-3aa39493-7ad2-4cd1-9eaa-f22ea19d351b",
    "deepnote_cell_type": "markdown"
   }
  },
  {
   "cell_type": "markdown",
   "source": "## 1.1. Limpieza de los datos",
   "metadata": {
    "tags": [],
    "is_collapsed": false,
    "cell_id": "00012-0afb0873-7103-486d-b89f-068ecdd9ae25",
    "deepnote_cell_type": "text-cell-h2"
   }
  },
  {
   "cell_type": "markdown",
   "source": "Ya conocido los datos con los que nos encontramos trabajando, pasamos a hacer una limpieza de nuestros datos, en especial nos enfocaremos en solucionar aquellos datos faltes y duplicados que podrían ocacionarnos problemas al momento de implementar nuestro modelo. ",
   "metadata": {
    "tags": [],
    "cell_id": "00012-93d2985b-ad30-4c65-ac5a-4ed639d66091",
    "deepnote_cell_type": "markdown"
   }
  },
  {
   "cell_type": "code",
   "metadata": {
    "tags": [],
    "cell_id": "00009-4d7ecf7e-e909-4551-87c8-a491e0738c61",
    "deepnote_to_be_reexecuted": false,
    "source_hash": "f3dd26da",
    "execution_start": 1633277795274,
    "execution_millis": 8,
    "deepnote_cell_type": "code"
   },
   "source": "df.isnull().sum()",
   "execution_count": null,
   "outputs": [
    {
     "output_type": "execute_result",
     "execution_count": 48,
     "data": {
      "text/plain": "company         0\nprice_rupiah    0\ndiameter        0\ntopping         0\nvariant         0\nsize            0\nextra_sauce     0\nextra_cheese    0\ndtype: int64"
     },
     "metadata": {}
    }
   ]
  },
  {
   "cell_type": "code",
   "metadata": {
    "tags": [],
    "cell_id": "00010-2db5b853-2cfe-494f-bd2b-efae6b88b2d2",
    "deepnote_to_be_reexecuted": false,
    "source_hash": "f4a75f90",
    "execution_start": 1633277797854,
    "execution_millis": 52,
    "deepnote_cell_type": "code"
   },
   "source": "df[df.duplicated()]",
   "execution_count": null,
   "outputs": [
    {
     "output_type": "execute_result",
     "execution_count": 49,
     "data": {
      "application/vnd.deepnote.dataframe.v2+json": {
       "row_count": 3,
       "column_count": 8,
       "columns": [
        {
         "name": "company",
         "dtype": "object",
         "stats": {
          "unique_count": 2,
          "nan_count": 0,
          "categories": [
           {
            "name": "E",
            "count": 2
           },
           {
            "name": "B",
            "count": 1
           }
          ]
         }
        },
        {
         "name": "price_rupiah",
         "dtype": "object",
         "stats": {
          "unique_count": 2,
          "nan_count": 0,
          "categories": [
           {
            "name": "Rp83,000",
            "count": 2
           },
           {
            "name": "Rp115,000",
            "count": 1
           }
          ]
         }
        },
        {
         "name": "diameter",
         "dtype": "float64",
         "stats": {
          "unique_count": 1,
          "nan_count": 0,
          "min": "17.0",
          "max": "17.0",
          "histogram": [
           {
            "bin_start": 16.5,
            "bin_end": 16.6,
            "count": 0
           },
           {
            "bin_start": 16.6,
            "bin_end": 16.7,
            "count": 0
           },
           {
            "bin_start": 16.7,
            "bin_end": 16.8,
            "count": 0
           },
           {
            "bin_start": 16.8,
            "bin_end": 16.9,
            "count": 0
           },
           {
            "bin_start": 16.9,
            "bin_end": 17,
            "count": 0
           },
           {
            "bin_start": 17,
            "bin_end": 17.1,
            "count": 3
           },
           {
            "bin_start": 17.1,
            "bin_end": 17.2,
            "count": 0
           },
           {
            "bin_start": 17.2,
            "bin_end": 17.3,
            "count": 0
           },
           {
            "bin_start": 17.3,
            "bin_end": 17.4,
            "count": 0
           },
           {
            "bin_start": 17.4,
            "bin_end": 17.5,
            "count": 0
           }
          ]
         }
        },
        {
         "name": "topping",
         "dtype": "object",
         "stats": {
          "unique_count": 2,
          "nan_count": 0,
          "categories": [
           {
            "name": "chicken",
            "count": 2
           },
           {
            "name": "mozzarella",
            "count": 1
           }
          ]
         }
        },
        {
         "name": "variant",
         "dtype": "object",
         "stats": {
          "unique_count": 1,
          "nan_count": 0,
          "categories": [
           {
            "name": "new_york",
            "count": 3
           }
          ]
         }
        },
        {
         "name": "size",
         "dtype": "object",
         "stats": {
          "unique_count": 1,
          "nan_count": 0,
          "categories": [
           {
            "name": "XL",
            "count": 3
           }
          ]
         }
        },
        {
         "name": "extra_sauce",
         "dtype": "object",
         "stats": {
          "unique_count": 1,
          "nan_count": 0,
          "categories": [
           {
            "name": "no",
            "count": 3
           }
          ]
         }
        },
        {
         "name": "extra_cheese",
         "dtype": "object",
         "stats": {
          "unique_count": 1,
          "nan_count": 0,
          "categories": [
           {
            "name": "yes",
            "count": 3
           }
          ]
         }
        },
        {
         "name": "_deepnote_index_column",
         "dtype": "int64"
        }
       ],
       "rows_top": [
        {
         "company": "B",
         "price_rupiah": "Rp83,000",
         "diameter": 17,
         "topping": "chicken",
         "variant": "new_york",
         "size": "XL",
         "extra_sauce": "no",
         "extra_cheese": "yes",
         "_deepnote_index_column": 47
        },
        {
         "company": "E",
         "price_rupiah": "Rp115,000",
         "diameter": 17,
         "topping": "mozzarella",
         "variant": "new_york",
         "size": "XL",
         "extra_sauce": "no",
         "extra_cheese": "yes",
         "_deepnote_index_column": 110
        },
        {
         "company": "E",
         "price_rupiah": "Rp83,000",
         "diameter": 17,
         "topping": "chicken",
         "variant": "new_york",
         "size": "XL",
         "extra_sauce": "no",
         "extra_cheese": "yes",
         "_deepnote_index_column": 122
        }
       ],
       "rows_bottom": null
      },
      "text/plain": "    company price_rupiah  diameter     topping   variant size extra_sauce  \\\n47        B     Rp83,000      17.0     chicken  new_york   XL          no   \n110       E    Rp115,000      17.0  mozzarella  new_york   XL          no   \n122       E     Rp83,000      17.0     chicken  new_york   XL          no   \n\n    extra_cheese  \n47           yes  \n110          yes  \n122          yes  ",
      "text/html": "<div>\n<style scoped>\n    .dataframe tbody tr th:only-of-type {\n        vertical-align: middle;\n    }\n\n    .dataframe tbody tr th {\n        vertical-align: top;\n    }\n\n    .dataframe thead th {\n        text-align: right;\n    }\n</style>\n<table border=\"1\" class=\"dataframe\">\n  <thead>\n    <tr style=\"text-align: right;\">\n      <th></th>\n      <th>company</th>\n      <th>price_rupiah</th>\n      <th>diameter</th>\n      <th>topping</th>\n      <th>variant</th>\n      <th>size</th>\n      <th>extra_sauce</th>\n      <th>extra_cheese</th>\n    </tr>\n  </thead>\n  <tbody>\n    <tr>\n      <th>47</th>\n      <td>B</td>\n      <td>Rp83,000</td>\n      <td>17.0</td>\n      <td>chicken</td>\n      <td>new_york</td>\n      <td>XL</td>\n      <td>no</td>\n      <td>yes</td>\n    </tr>\n    <tr>\n      <th>110</th>\n      <td>E</td>\n      <td>Rp115,000</td>\n      <td>17.0</td>\n      <td>mozzarella</td>\n      <td>new_york</td>\n      <td>XL</td>\n      <td>no</td>\n      <td>yes</td>\n    </tr>\n    <tr>\n      <th>122</th>\n      <td>E</td>\n      <td>Rp83,000</td>\n      <td>17.0</td>\n      <td>chicken</td>\n      <td>new_york</td>\n      <td>XL</td>\n      <td>no</td>\n      <td>yes</td>\n    </tr>\n  </tbody>\n</table>\n</div>"
     },
     "metadata": {}
    }
   ]
  },
  {
   "cell_type": "code",
   "metadata": {
    "tags": [],
    "cell_id": "00011-431a98d8-a2f6-4c55-902a-843008dd476e",
    "deepnote_to_be_reexecuted": false,
    "source_hash": "a4a1ece8",
    "execution_start": 1633277799804,
    "execution_millis": 13,
    "deepnote_cell_type": "code"
   },
   "source": "df = df[~df.duplicated(keep='first')]\ndf.shape",
   "execution_count": null,
   "outputs": [
    {
     "output_type": "execute_result",
     "execution_count": 50,
     "data": {
      "text/plain": "(126, 8)"
     },
     "metadata": {}
    }
   ]
  },
  {
   "cell_type": "markdown",
   "source": "Pudimos encontrar que habian 3 filas de datos duplicados, los cuales eliminamos y mantuvimos la primera aparición. A continuación realizaremos un analisis del tipo de dato con el que estamos trabajando.",
   "metadata": {
    "tags": [],
    "cell_id": "00016-3b898c80-fb6b-4bd1-b3aa-91f9e0273f66",
    "deepnote_cell_type": "markdown"
   }
  },
  {
   "cell_type": "code",
   "metadata": {
    "tags": [],
    "cell_id": "00009-e89f278f-dddf-4b57-a27f-a93de1bf79dd",
    "deepnote_to_be_reexecuted": false,
    "source_hash": "52430027",
    "execution_start": 1633277801890,
    "execution_millis": 14,
    "deepnote_cell_type": "code"
   },
   "source": "df.dtypes",
   "execution_count": null,
   "outputs": [
    {
     "output_type": "execute_result",
     "execution_count": 51,
     "data": {
      "text/plain": "company          object\nprice_rupiah     object\ndiameter        float64\ntopping          object\nvariant          object\nsize             object\nextra_sauce      object\nextra_cheese     object\ndtype: object"
     },
     "metadata": {}
    }
   ]
  },
  {
   "cell_type": "markdown",
   "source": "como podemos ver, nuestra variable a predecir se encuentra como un tipo de dato object, además contiene el Rp al inicio que indica la moneda, para hacer nuestra implementación de nuestro modelo, necesitamos que ese dato sea de tipo flotante. A continuación realizaremos la transformación del tipo object a tipo string y despues eliminaremos el Rp al inicio del valor para finalmente transformar el datos a flotante. Una vez que lo tengamos en flotante, realizaremos la transformación de la moneda de ruphian a soles.",
   "metadata": {
    "tags": [],
    "cell_id": "00018-89583333-73ec-4e0b-a17c-224583734a9c",
    "deepnote_cell_type": "markdown"
   }
  },
  {
   "cell_type": "code",
   "metadata": {
    "tags": [],
    "cell_id": "00010-de721a73-38b6-4005-9b4e-5220045801a2",
    "deepnote_to_be_reexecuted": false,
    "source_hash": "d4b264fd",
    "execution_start": 1633277803892,
    "execution_millis": 12,
    "deepnote_cell_type": "code"
   },
   "source": "df['price_rupiah'] = df['price_rupiah'].apply(str)\ndf['price_rupiah'] = df['price_rupiah'].str[2:]\ndf['price_rupiah']=df['price_rupiah'].str.replace(',','')\ndf['price_rupiah'] = df['price_rupiah'].apply(float)\ndf.dtypes",
   "execution_count": null,
   "outputs": [
    {
     "output_type": "execute_result",
     "execution_count": 52,
     "data": {
      "text/plain": "company          object\nprice_rupiah    float64\ndiameter        float64\ntopping          object\nvariant          object\nsize             object\nextra_sauce      object\nextra_cheese     object\ndtype: object"
     },
     "metadata": {}
    }
   ]
  },
  {
   "cell_type": "code",
   "metadata": {
    "tags": [],
    "cell_id": "00011-4c75336e-8937-4725-8c1d-e54ec22d9bc6",
    "deepnote_to_be_reexecuted": false,
    "source_hash": "341d0628",
    "execution_start": 1633277806615,
    "execution_millis": 6,
    "deepnote_cell_type": "code"
   },
   "source": "def rupiah2soles(x: float)->float:\n  return round(x*0.00029,3)",
   "execution_count": null,
   "outputs": []
  },
  {
   "cell_type": "code",
   "metadata": {
    "tags": [],
    "cell_id": "00012-d66613bb-28ae-4454-8046-71ddfa4e7c66",
    "deepnote_to_be_reexecuted": false,
    "source_hash": "6dacc93b",
    "execution_start": 1633277809289,
    "execution_millis": 12,
    "deepnote_cell_type": "code"
   },
   "source": "df['price_rupiah'] = df['price_rupiah'].apply(rupiah2soles)\ndf.sample(10)",
   "execution_count": null,
   "outputs": [
    {
     "output_type": "execute_result",
     "execution_count": 54,
     "data": {
      "application/vnd.deepnote.dataframe.v2+json": {
       "row_count": 10,
       "column_count": 8,
       "columns": [
        {
         "name": "company",
         "dtype": "object",
         "stats": {
          "unique_count": 4,
          "nan_count": 0,
          "categories": [
           {
            "name": "A",
            "count": 3
           },
           {
            "name": "C",
            "count": 3
           },
           {
            "name": "2 others",
            "count": 4
           }
          ]
         }
        },
        {
         "name": "price_rupiah",
         "dtype": "float64",
         "stats": {
          "unique_count": 8,
          "nan_count": 0,
          "min": "15.66",
          "max": "66.7",
          "histogram": [
           {
            "bin_start": 15.66,
            "bin_end": 20.764000000000003,
            "count": 1
           },
           {
            "bin_start": 20.764000000000003,
            "bin_end": 25.868000000000002,
            "count": 5
           },
           {
            "bin_start": 25.868000000000002,
            "bin_end": 30.972,
            "count": 1
           },
           {
            "bin_start": 30.972,
            "bin_end": 36.07600000000001,
            "count": 1
           },
           {
            "bin_start": 36.07600000000001,
            "bin_end": 41.18000000000001,
            "count": 1
           },
           {
            "bin_start": 41.18000000000001,
            "bin_end": 46.284000000000006,
            "count": 0
           },
           {
            "bin_start": 46.284000000000006,
            "bin_end": 51.388000000000005,
            "count": 0
           },
           {
            "bin_start": 51.388000000000005,
            "bin_end": 56.492000000000004,
            "count": 0
           },
           {
            "bin_start": 56.492000000000004,
            "bin_end": 61.596000000000004,
            "count": 0
           },
           {
            "bin_start": 61.596000000000004,
            "bin_end": 66.7,
            "count": 1
           }
          ]
         }
        },
        {
         "name": "diameter",
         "dtype": "float64",
         "stats": {
          "unique_count": 5,
          "nan_count": 0,
          "min": "12.0",
          "max": "22.0",
          "histogram": [
           {
            "bin_start": 12,
            "bin_end": 13,
            "count": 4
           },
           {
            "bin_start": 13,
            "bin_end": 14,
            "count": 0
           },
           {
            "bin_start": 14,
            "bin_end": 15,
            "count": 3
           },
           {
            "bin_start": 15,
            "bin_end": 16,
            "count": 0
           },
           {
            "bin_start": 16,
            "bin_end": 17,
            "count": 0
           },
           {
            "bin_start": 17,
            "bin_end": 18,
            "count": 1
           },
           {
            "bin_start": 18,
            "bin_end": 19,
            "count": 1
           },
           {
            "bin_start": 19,
            "bin_end": 20,
            "count": 0
           },
           {
            "bin_start": 20,
            "bin_end": 21,
            "count": 0
           },
           {
            "bin_start": 21,
            "bin_end": 22,
            "count": 1
           }
          ]
         }
        },
        {
         "name": "topping",
         "dtype": "object",
         "stats": {
          "unique_count": 6,
          "nan_count": 0,
          "categories": [
           {
            "name": "chicken",
            "count": 4
           },
           {
            "name": "tuna",
            "count": 2
           },
           {
            "name": "4 others",
            "count": 4
           }
          ]
         }
        },
        {
         "name": "variant",
         "dtype": "object",
         "stats": {
          "unique_count": 8,
          "nan_count": 0,
          "categories": [
           {
            "name": "double_mix",
            "count": 2
           },
           {
            "name": "classic",
            "count": 2
           },
           {
            "name": "6 others",
            "count": 6
           }
          ]
         }
        },
        {
         "name": "size",
         "dtype": "object",
         "stats": {
          "unique_count": 5,
          "nan_count": 0,
          "categories": [
           {
            "name": "medium",
            "count": 4
           },
           {
            "name": "jumbo",
            "count": 2
           },
           {
            "name": "3 others",
            "count": 4
           }
          ]
         }
        },
        {
         "name": "extra_sauce",
         "dtype": "object",
         "stats": {
          "unique_count": 2,
          "nan_count": 0,
          "categories": [
           {
            "name": "yes",
            "count": 6
           },
           {
            "name": "no",
            "count": 4
           }
          ]
         }
        },
        {
         "name": "extra_cheese",
         "dtype": "object",
         "stats": {
          "unique_count": 2,
          "nan_count": 0,
          "categories": [
           {
            "name": "yes",
            "count": 7
           },
           {
            "name": "no",
            "count": 3
           }
          ]
         }
        },
        {
         "name": "_deepnote_index_column",
         "dtype": "int64"
        }
       ],
       "rows_top": [
        {
         "company": "A",
         "price_rupiah": 40.6,
         "diameter": 18.5,
         "topping": "black papper",
         "variant": "american_favorite",
         "size": "jumbo",
         "extra_sauce": "no",
         "extra_cheese": "no",
         "_deepnote_index_column": 5
        },
        {
         "company": "B",
         "price_rupiah": 24.07,
         "diameter": 17,
         "topping": "chicken",
         "variant": "new_york",
         "size": "XL",
         "extra_sauce": "no",
         "extra_cheese": "yes",
         "_deepnote_index_column": 29
        },
        {
         "company": "A",
         "price_rupiah": 66.7,
         "diameter": 22,
         "topping": "chicken",
         "variant": "double_mix",
         "size": "jumbo",
         "extra_sauce": "yes",
         "extra_cheese": "yes",
         "_deepnote_index_column": 20
        },
        {
         "company": "B",
         "price_rupiah": 20.88,
         "diameter": 14,
         "topping": "chicken",
         "variant": "classic",
         "size": "large",
         "extra_sauce": "yes",
         "extra_cheese": "yes",
         "_deepnote_index_column": 39
        },
        {
         "company": "A",
         "price_rupiah": 33.06,
         "diameter": 14,
         "topping": "chicken",
         "variant": "double_mix",
         "size": "reguler",
         "extra_sauce": "yes",
         "extra_cheese": "yes",
         "_deepnote_index_column": 22
        },
        {
         "company": "C",
         "price_rupiah": 20.88,
         "diameter": 12,
         "topping": "tuna",
         "variant": "spicy_tuna",
         "size": "medium",
         "extra_sauce": "yes",
         "extra_cheese": "yes",
         "_deepnote_index_column": 50
        },
        {
         "company": "E",
         "price_rupiah": 20.88,
         "diameter": 14,
         "topping": "smoked beef",
         "variant": "classic",
         "size": "large",
         "extra_sauce": "yes",
         "extra_cheese": "no",
         "_deepnote_index_column": 102
        },
        {
         "company": "C",
         "price_rupiah": 15.66,
         "diameter": 12,
         "topping": "tuna",
         "variant": "neptune_tuna",
         "size": "medium",
         "extra_sauce": "yes",
         "extra_cheese": "yes",
         "_deepnote_index_column": 77
        },
        {
         "company": "E",
         "price_rupiah": 27.84,
         "diameter": 12,
         "topping": "mushrooms",
         "variant": "double_decker",
         "size": "medium",
         "extra_sauce": "no",
         "extra_cheese": "yes",
         "_deepnote_index_column": 123
        },
        {
         "company": "C",
         "price_rupiah": 22.62,
         "diameter": 12,
         "topping": "vegetables",
         "variant": "gournet_greek",
         "size": "medium",
         "extra_sauce": "no",
         "extra_cheese": "no",
         "_deepnote_index_column": 65
        }
       ],
       "rows_bottom": null
      },
      "text/plain": "    company  price_rupiah  diameter       topping            variant     size  \\\n5         A         40.60      18.5  black papper  american_favorite    jumbo   \n29        B         24.07      17.0       chicken           new_york       XL   \n20        A         66.70      22.0       chicken         double_mix    jumbo   \n39        B         20.88      14.0       chicken            classic    large   \n22        A         33.06      14.0       chicken         double_mix  reguler   \n50        C         20.88      12.0          tuna         spicy_tuna   medium   \n102       E         20.88      14.0   smoked beef            classic    large   \n77        C         15.66      12.0          tuna       neptune_tuna   medium   \n123       E         27.84      12.0     mushrooms      double_decker   medium   \n65        C         22.62      12.0    vegetables      gournet_greek   medium   \n\n    extra_sauce extra_cheese  \n5            no           no  \n29           no          yes  \n20          yes          yes  \n39          yes          yes  \n22          yes          yes  \n50          yes          yes  \n102         yes           no  \n77          yes          yes  \n123          no          yes  \n65           no           no  ",
      "text/html": "<div>\n<style scoped>\n    .dataframe tbody tr th:only-of-type {\n        vertical-align: middle;\n    }\n\n    .dataframe tbody tr th {\n        vertical-align: top;\n    }\n\n    .dataframe thead th {\n        text-align: right;\n    }\n</style>\n<table border=\"1\" class=\"dataframe\">\n  <thead>\n    <tr style=\"text-align: right;\">\n      <th></th>\n      <th>company</th>\n      <th>price_rupiah</th>\n      <th>diameter</th>\n      <th>topping</th>\n      <th>variant</th>\n      <th>size</th>\n      <th>extra_sauce</th>\n      <th>extra_cheese</th>\n    </tr>\n  </thead>\n  <tbody>\n    <tr>\n      <th>5</th>\n      <td>A</td>\n      <td>40.60</td>\n      <td>18.5</td>\n      <td>black papper</td>\n      <td>american_favorite</td>\n      <td>jumbo</td>\n      <td>no</td>\n      <td>no</td>\n    </tr>\n    <tr>\n      <th>29</th>\n      <td>B</td>\n      <td>24.07</td>\n      <td>17.0</td>\n      <td>chicken</td>\n      <td>new_york</td>\n      <td>XL</td>\n      <td>no</td>\n      <td>yes</td>\n    </tr>\n    <tr>\n      <th>20</th>\n      <td>A</td>\n      <td>66.70</td>\n      <td>22.0</td>\n      <td>chicken</td>\n      <td>double_mix</td>\n      <td>jumbo</td>\n      <td>yes</td>\n      <td>yes</td>\n    </tr>\n    <tr>\n      <th>39</th>\n      <td>B</td>\n      <td>20.88</td>\n      <td>14.0</td>\n      <td>chicken</td>\n      <td>classic</td>\n      <td>large</td>\n      <td>yes</td>\n      <td>yes</td>\n    </tr>\n    <tr>\n      <th>22</th>\n      <td>A</td>\n      <td>33.06</td>\n      <td>14.0</td>\n      <td>chicken</td>\n      <td>double_mix</td>\n      <td>reguler</td>\n      <td>yes</td>\n      <td>yes</td>\n    </tr>\n    <tr>\n      <th>50</th>\n      <td>C</td>\n      <td>20.88</td>\n      <td>12.0</td>\n      <td>tuna</td>\n      <td>spicy_tuna</td>\n      <td>medium</td>\n      <td>yes</td>\n      <td>yes</td>\n    </tr>\n    <tr>\n      <th>102</th>\n      <td>E</td>\n      <td>20.88</td>\n      <td>14.0</td>\n      <td>smoked beef</td>\n      <td>classic</td>\n      <td>large</td>\n      <td>yes</td>\n      <td>no</td>\n    </tr>\n    <tr>\n      <th>77</th>\n      <td>C</td>\n      <td>15.66</td>\n      <td>12.0</td>\n      <td>tuna</td>\n      <td>neptune_tuna</td>\n      <td>medium</td>\n      <td>yes</td>\n      <td>yes</td>\n    </tr>\n    <tr>\n      <th>123</th>\n      <td>E</td>\n      <td>27.84</td>\n      <td>12.0</td>\n      <td>mushrooms</td>\n      <td>double_decker</td>\n      <td>medium</td>\n      <td>no</td>\n      <td>yes</td>\n    </tr>\n    <tr>\n      <th>65</th>\n      <td>C</td>\n      <td>22.62</td>\n      <td>12.0</td>\n      <td>vegetables</td>\n      <td>gournet_greek</td>\n      <td>medium</td>\n      <td>no</td>\n      <td>no</td>\n    </tr>\n  </tbody>\n</table>\n</div>"
     },
     "metadata": {}
    }
   ]
  },
  {
   "cell_type": "markdown",
   "source": "Queremos que el precio en soles este en la última columna ya que es nuestro target con el que trabajaremos, a continuación realizaremos ese cambio.",
   "metadata": {
    "tags": [],
    "cell_id": "00022-f9c6e318-9bfb-41c0-960f-cdc552d70546",
    "deepnote_cell_type": "markdown"
   }
  },
  {
   "cell_type": "code",
   "metadata": {
    "tags": [],
    "cell_id": "00013-f32d0bb9-2fde-4c32-a7ea-42171649a1fc",
    "deepnote_to_be_reexecuted": false,
    "source_hash": "51c6b9b3",
    "execution_start": 1633277811720,
    "execution_millis": 9,
    "deepnote_cell_type": "code"
   },
   "source": "df['price_soles'] = df['price_rupiah']\ndf = df.drop(['price_rupiah'], axis=1)\ndf.sample(10)",
   "execution_count": null,
   "outputs": [
    {
     "output_type": "execute_result",
     "execution_count": 55,
     "data": {
      "application/vnd.deepnote.dataframe.v2+json": {
       "row_count": 10,
       "column_count": 8,
       "columns": [
        {
         "name": "company",
         "dtype": "object",
         "stats": {
          "unique_count": 5,
          "nan_count": 0,
          "categories": [
           {
            "name": "B",
            "count": 3
           },
           {
            "name": "E",
            "count": 3
           },
           {
            "name": "3 others",
            "count": 4
           }
          ]
         }
        },
        {
         "name": "diameter",
         "dtype": "float64",
         "stats": {
          "unique_count": 4,
          "nan_count": 0,
          "min": "12.0",
          "max": "22.0",
          "histogram": [
           {
            "bin_start": 12,
            "bin_end": 13,
            "count": 5
           },
           {
            "bin_start": 13,
            "bin_end": 14,
            "count": 0
           },
           {
            "bin_start": 14,
            "bin_end": 15,
            "count": 1
           },
           {
            "bin_start": 15,
            "bin_end": 16,
            "count": 0
           },
           {
            "bin_start": 16,
            "bin_end": 17,
            "count": 0
           },
           {
            "bin_start": 17,
            "bin_end": 18,
            "count": 3
           },
           {
            "bin_start": 18,
            "bin_end": 19,
            "count": 0
           },
           {
            "bin_start": 19,
            "bin_end": 20,
            "count": 0
           },
           {
            "bin_start": 20,
            "bin_end": 21,
            "count": 0
           },
           {
            "bin_start": 21,
            "bin_end": 22,
            "count": 1
           }
          ]
         }
        },
        {
         "name": "topping",
         "dtype": "object",
         "stats": {
          "unique_count": 6,
          "nan_count": 0,
          "categories": [
           {
            "name": "chicken",
            "count": 3
           },
           {
            "name": "smoked beef",
            "count": 2
           },
           {
            "name": "4 others",
            "count": 5
           }
          ]
         }
        },
        {
         "name": "variant",
         "dtype": "object",
         "stats": {
          "unique_count": 7,
          "nan_count": 0,
          "categories": [
           {
            "name": "new_york",
            "count": 3
           },
           {
            "name": "double_decker",
            "count": 2
           },
           {
            "name": "5 others",
            "count": 5
           }
          ]
         }
        },
        {
         "name": "size",
         "dtype": "object",
         "stats": {
          "unique_count": 4,
          "nan_count": 0,
          "categories": [
           {
            "name": "medium",
            "count": 5
           },
           {
            "name": "XL",
            "count": 3
           },
           {
            "name": "2 others",
            "count": 2
           }
          ]
         }
        },
        {
         "name": "extra_sauce",
         "dtype": "object",
         "stats": {
          "unique_count": 2,
          "nan_count": 0,
          "categories": [
           {
            "name": "yes",
            "count": 5
           },
           {
            "name": "no",
            "count": 5
           }
          ]
         }
        },
        {
         "name": "extra_cheese",
         "dtype": "object",
         "stats": {
          "unique_count": 2,
          "nan_count": 0,
          "categories": [
           {
            "name": "yes",
            "count": 8
           },
           {
            "name": "no",
            "count": 2
           }
          ]
         }
        },
        {
         "name": "price_soles",
         "dtype": "float64",
         "stats": {
          "unique_count": 10,
          "nan_count": 0,
          "min": "13.34",
          "max": "66.7",
          "histogram": [
           {
            "bin_start": 13.34,
            "bin_end": 18.676000000000002,
            "count": 3
           },
           {
            "bin_start": 18.676000000000002,
            "bin_end": 24.012,
            "count": 0
           },
           {
            "bin_start": 24.012,
            "bin_end": 29.348000000000003,
            "count": 3
           },
           {
            "bin_start": 29.348000000000003,
            "bin_end": 34.684,
            "count": 2
           },
           {
            "bin_start": 34.684,
            "bin_end": 40.019999999999996,
            "count": 1
           },
           {
            "bin_start": 40.019999999999996,
            "bin_end": 45.35600000000001,
            "count": 0
           },
           {
            "bin_start": 45.35600000000001,
            "bin_end": 50.69200000000001,
            "count": 0
           },
           {
            "bin_start": 50.69200000000001,
            "bin_end": 56.028000000000006,
            "count": 0
           },
           {
            "bin_start": 56.028000000000006,
            "bin_end": 61.364000000000004,
            "count": 0
           },
           {
            "bin_start": 61.364000000000004,
            "bin_end": 66.7,
            "count": 1
           }
          ]
         }
        },
        {
         "name": "_deepnote_index_column",
         "dtype": "int64"
        }
       ],
       "rows_top": [
        {
         "company": "B",
         "diameter": 12,
         "topping": "smoked beef",
         "variant": "double_decker",
         "size": "medium",
         "extra_sauce": "yes",
         "extra_cheese": "yes",
         "price_soles": 35.67,
         "_deepnote_index_column": 36
        },
        {
         "company": "A",
         "diameter": 22,
         "topping": "chicken",
         "variant": "double_mix",
         "size": "jumbo",
         "extra_sauce": "yes",
         "extra_cheese": "yes",
         "price_soles": 66.7,
         "_deepnote_index_column": 20
        },
        {
         "company": "C",
         "diameter": 14,
         "topping": "beef",
         "variant": "american_classic",
         "size": "large",
         "extra_sauce": "yes",
         "extra_cheese": "no",
         "price_soles": 28.42,
         "_deepnote_index_column": 75
        },
        {
         "company": "E",
         "diameter": 12,
         "topping": "chicken",
         "variant": "double_decker",
         "size": "medium",
         "extra_sauce": "no",
         "extra_cheese": "yes",
         "price_soles": 27.84,
         "_deepnote_index_column": 105
        },
        {
         "company": "E",
         "diameter": 17,
         "topping": "mushrooms",
         "variant": "new_york",
         "size": "XL",
         "extra_sauce": "yes",
         "extra_cheese": "no",
         "price_soles": 34.51,
         "_deepnote_index_column": 116
        },
        {
         "company": "E",
         "diameter": 12,
         "topping": "smoked beef",
         "variant": "crunchy",
         "size": "medium",
         "extra_sauce": "no",
         "extra_cheese": "yes",
         "price_soles": 14.21,
         "_deepnote_index_column": 121
        },
        {
         "company": "B",
         "diameter": 17,
         "topping": "mozzarella",
         "variant": "new_york",
         "size": "XL",
         "extra_sauce": "no",
         "extra_cheese": "yes",
         "price_soles": 33.35,
         "_deepnote_index_column": 35
        },
        {
         "company": "C",
         "diameter": 12,
         "topping": "vegetables",
         "variant": "italian_veggie",
         "size": "medium",
         "extra_sauce": "no",
         "extra_cheese": "yes",
         "price_soles": 14.79,
         "_deepnote_index_column": 68
        },
        {
         "company": "D",
         "diameter": 17,
         "topping": "chicken",
         "variant": "new_york",
         "size": "XL",
         "extra_sauce": "no",
         "extra_cheese": "yes",
         "price_soles": 24.07,
         "_deepnote_index_column": 93
        },
        {
         "company": "B",
         "diameter": 12,
         "topping": "mozzarella",
         "variant": "classic",
         "size": "medium",
         "extra_sauce": "yes",
         "extra_cheese": "yes",
         "price_soles": 13.34,
         "_deepnote_index_column": 38
        }
       ],
       "rows_bottom": null
      },
      "text/plain": "    company  diameter      topping           variant    size extra_sauce  \\\n36        B      12.0  smoked beef     double_decker  medium         yes   \n20        A      22.0      chicken        double_mix   jumbo         yes   \n75        C      14.0         beef  american_classic   large         yes   \n105       E      12.0      chicken     double_decker  medium          no   \n116       E      17.0    mushrooms          new_york      XL         yes   \n121       E      12.0  smoked beef           crunchy  medium          no   \n35        B      17.0   mozzarella          new_york      XL          no   \n68        C      12.0   vegetables    italian_veggie  medium          no   \n93        D      17.0      chicken          new_york      XL          no   \n38        B      12.0   mozzarella           classic  medium         yes   \n\n    extra_cheese  price_soles  \n36           yes        35.67  \n20           yes        66.70  \n75            no        28.42  \n105          yes        27.84  \n116           no        34.51  \n121          yes        14.21  \n35           yes        33.35  \n68           yes        14.79  \n93           yes        24.07  \n38           yes        13.34  ",
      "text/html": "<div>\n<style scoped>\n    .dataframe tbody tr th:only-of-type {\n        vertical-align: middle;\n    }\n\n    .dataframe tbody tr th {\n        vertical-align: top;\n    }\n\n    .dataframe thead th {\n        text-align: right;\n    }\n</style>\n<table border=\"1\" class=\"dataframe\">\n  <thead>\n    <tr style=\"text-align: right;\">\n      <th></th>\n      <th>company</th>\n      <th>diameter</th>\n      <th>topping</th>\n      <th>variant</th>\n      <th>size</th>\n      <th>extra_sauce</th>\n      <th>extra_cheese</th>\n      <th>price_soles</th>\n    </tr>\n  </thead>\n  <tbody>\n    <tr>\n      <th>36</th>\n      <td>B</td>\n      <td>12.0</td>\n      <td>smoked beef</td>\n      <td>double_decker</td>\n      <td>medium</td>\n      <td>yes</td>\n      <td>yes</td>\n      <td>35.67</td>\n    </tr>\n    <tr>\n      <th>20</th>\n      <td>A</td>\n      <td>22.0</td>\n      <td>chicken</td>\n      <td>double_mix</td>\n      <td>jumbo</td>\n      <td>yes</td>\n      <td>yes</td>\n      <td>66.70</td>\n    </tr>\n    <tr>\n      <th>75</th>\n      <td>C</td>\n      <td>14.0</td>\n      <td>beef</td>\n      <td>american_classic</td>\n      <td>large</td>\n      <td>yes</td>\n      <td>no</td>\n      <td>28.42</td>\n    </tr>\n    <tr>\n      <th>105</th>\n      <td>E</td>\n      <td>12.0</td>\n      <td>chicken</td>\n      <td>double_decker</td>\n      <td>medium</td>\n      <td>no</td>\n      <td>yes</td>\n      <td>27.84</td>\n    </tr>\n    <tr>\n      <th>116</th>\n      <td>E</td>\n      <td>17.0</td>\n      <td>mushrooms</td>\n      <td>new_york</td>\n      <td>XL</td>\n      <td>yes</td>\n      <td>no</td>\n      <td>34.51</td>\n    </tr>\n    <tr>\n      <th>121</th>\n      <td>E</td>\n      <td>12.0</td>\n      <td>smoked beef</td>\n      <td>crunchy</td>\n      <td>medium</td>\n      <td>no</td>\n      <td>yes</td>\n      <td>14.21</td>\n    </tr>\n    <tr>\n      <th>35</th>\n      <td>B</td>\n      <td>17.0</td>\n      <td>mozzarella</td>\n      <td>new_york</td>\n      <td>XL</td>\n      <td>no</td>\n      <td>yes</td>\n      <td>33.35</td>\n    </tr>\n    <tr>\n      <th>68</th>\n      <td>C</td>\n      <td>12.0</td>\n      <td>vegetables</td>\n      <td>italian_veggie</td>\n      <td>medium</td>\n      <td>no</td>\n      <td>yes</td>\n      <td>14.79</td>\n    </tr>\n    <tr>\n      <th>93</th>\n      <td>D</td>\n      <td>17.0</td>\n      <td>chicken</td>\n      <td>new_york</td>\n      <td>XL</td>\n      <td>no</td>\n      <td>yes</td>\n      <td>24.07</td>\n    </tr>\n    <tr>\n      <th>38</th>\n      <td>B</td>\n      <td>12.0</td>\n      <td>mozzarella</td>\n      <td>classic</td>\n      <td>medium</td>\n      <td>yes</td>\n      <td>yes</td>\n      <td>13.34</td>\n    </tr>\n  </tbody>\n</table>\n</div>"
     },
     "metadata": {}
    }
   ]
  },
  {
   "cell_type": "markdown",
   "source": "## 1.2.  Preprocesamiento",
   "metadata": {
    "tags": [],
    "is_collapsed": false,
    "cell_id": "00025-92d9a499-3988-4c5c-9495-11b65b53bbdc",
    "deepnote_cell_type": "text-cell-h2"
   }
  },
  {
   "cell_type": "markdown",
   "source": "Para Machine Learning, es más factible trabajar con datos númericos que con datos tipo string, como lo son company, topping, variant, size, extra sauce  y extra cheese. Además podemos ver del resumen de la parte superior que nos ofrece Deepnote que la cantidad de valores unicos que contienen estos son 5, 5, 7, 4, 2 y 2 respectivamente, entonces estos datos pueden ser convertidos a datos categoricos. Estas etiquetas tenemos que codificarlas y obtener de este modo variables númericas tal como se puede ver acontinuación.",
   "metadata": {
    "tags": [],
    "cell_id": "00024-8ed966e3-1ada-4532-a635-6816d67f7c71",
    "deepnote_cell_type": "markdown"
   }
  },
  {
   "cell_type": "code",
   "metadata": {
    "tags": [],
    "cell_id": "00017-142e9ce4-33a0-41d5-bd48-b72f48d22ebe",
    "deepnote_to_be_reexecuted": false,
    "source_hash": "2c5795c4",
    "execution_start": 1633277814605,
    "execution_millis": 103,
    "deepnote_cell_type": "code"
   },
   "source": "labelEncoder = LabelEncoder()\nfor _ in df.columns:\n  if df[_].dtype == 'object':\n    labelEncoder.fit(list(df[_].values))\n    df[_] = labelEncoder.transform(df[_].values)\ndf.sample(10)",
   "execution_count": null,
   "outputs": [
    {
     "output_type": "execute_result",
     "execution_count": 57,
     "data": {
      "application/vnd.deepnote.dataframe.v2+json": {
       "row_count": 10,
       "column_count": 8,
       "columns": [
        {
         "name": "company",
         "dtype": "int64",
         "stats": {
          "unique_count": 5,
          "nan_count": 0,
          "min": "0",
          "max": "4",
          "histogram": [
           {
            "bin_start": 0,
            "bin_end": 0.4,
            "count": 2
           },
           {
            "bin_start": 0.4,
            "bin_end": 0.8,
            "count": 0
           },
           {
            "bin_start": 0.8,
            "bin_end": 1.2000000000000002,
            "count": 2
           },
           {
            "bin_start": 1.2000000000000002,
            "bin_end": 1.6,
            "count": 0
           },
           {
            "bin_start": 1.6,
            "bin_end": 2,
            "count": 0
           },
           {
            "bin_start": 2,
            "bin_end": 2.4000000000000004,
            "count": 1
           },
           {
            "bin_start": 2.4000000000000004,
            "bin_end": 2.8000000000000003,
            "count": 0
           },
           {
            "bin_start": 2.8000000000000003,
            "bin_end": 3.2,
            "count": 4
           },
           {
            "bin_start": 3.2,
            "bin_end": 3.6,
            "count": 0
           },
           {
            "bin_start": 3.6,
            "bin_end": 4,
            "count": 1
           }
          ]
         }
        },
        {
         "name": "diameter",
         "dtype": "float64",
         "stats": {
          "unique_count": 5,
          "nan_count": 0,
          "min": "8.0",
          "max": "22.0",
          "histogram": [
           {
            "bin_start": 8,
            "bin_end": 9.4,
            "count": 1
           },
           {
            "bin_start": 9.4,
            "bin_end": 10.8,
            "count": 0
           },
           {
            "bin_start": 10.8,
            "bin_end": 12.2,
            "count": 6
           },
           {
            "bin_start": 12.2,
            "bin_end": 13.6,
            "count": 0
           },
           {
            "bin_start": 13.6,
            "bin_end": 15,
            "count": 1
           },
           {
            "bin_start": 15,
            "bin_end": 16.4,
            "count": 0
           },
           {
            "bin_start": 16.4,
            "bin_end": 17.799999999999997,
            "count": 1
           },
           {
            "bin_start": 17.799999999999997,
            "bin_end": 19.2,
            "count": 0
           },
           {
            "bin_start": 19.2,
            "bin_end": 20.6,
            "count": 0
           },
           {
            "bin_start": 20.6,
            "bin_end": 22,
            "count": 1
           }
          ]
         }
        },
        {
         "name": "topping",
         "dtype": "int64",
         "stats": {
          "unique_count": 5,
          "nan_count": 0,
          "min": "2",
          "max": "9",
          "histogram": [
           {
            "bin_start": 2,
            "bin_end": 2.7,
            "count": 4
           },
           {
            "bin_start": 2.7,
            "bin_end": 3.4,
            "count": 1
           },
           {
            "bin_start": 3.4,
            "bin_end": 4.1,
            "count": 2
           },
           {
            "bin_start": 4.1,
            "bin_end": 4.8,
            "count": 0
           },
           {
            "bin_start": 4.8,
            "bin_end": 5.5,
            "count": 1
           },
           {
            "bin_start": 5.5,
            "bin_end": 6.199999999999999,
            "count": 0
           },
           {
            "bin_start": 6.199999999999999,
            "bin_end": 6.8999999999999995,
            "count": 0
           },
           {
            "bin_start": 6.8999999999999995,
            "bin_end": 7.6,
            "count": 0
           },
           {
            "bin_start": 7.6,
            "bin_end": 8.3,
            "count": 0
           },
           {
            "bin_start": 8.3,
            "bin_end": 9,
            "count": 2
           }
          ]
         }
        },
        {
         "name": "variant",
         "dtype": "int64",
         "stats": {
          "unique_count": 7,
          "nan_count": 0,
          "min": "3",
          "max": "18",
          "histogram": [
           {
            "bin_start": 3,
            "bin_end": 4.5,
            "count": 3
           },
           {
            "bin_start": 4.5,
            "bin_end": 6,
            "count": 0
           },
           {
            "bin_start": 6,
            "bin_end": 7.5,
            "count": 4
           },
           {
            "bin_start": 7.5,
            "bin_end": 9,
            "count": 0
           },
           {
            "bin_start": 9,
            "bin_end": 10.5,
            "count": 0
           },
           {
            "bin_start": 10.5,
            "bin_end": 12,
            "count": 0
           },
           {
            "bin_start": 12,
            "bin_end": 13.5,
            "count": 2
           },
           {
            "bin_start": 13.5,
            "bin_end": 15,
            "count": 0
           },
           {
            "bin_start": 15,
            "bin_end": 16.5,
            "count": 0
           },
           {
            "bin_start": 16.5,
            "bin_end": 18,
            "count": 1
           }
          ]
         }
        },
        {
         "name": "size",
         "dtype": "int64",
         "stats": {
          "unique_count": 4,
          "nan_count": 0,
          "min": "1",
          "max": "4",
          "histogram": [
           {
            "bin_start": 1,
            "bin_end": 1.3,
            "count": 1
           },
           {
            "bin_start": 1.3,
            "bin_end": 1.6,
            "count": 0
           },
           {
            "bin_start": 1.6,
            "bin_end": 1.9,
            "count": 0
           },
           {
            "bin_start": 1.9,
            "bin_end": 2.2,
            "count": 1
           },
           {
            "bin_start": 2.2,
            "bin_end": 2.5,
            "count": 0
           },
           {
            "bin_start": 2.5,
            "bin_end": 2.8,
            "count": 0
           },
           {
            "bin_start": 2.8,
            "bin_end": 3.1,
            "count": 4
           },
           {
            "bin_start": 3.1,
            "bin_end": 3.4,
            "count": 0
           },
           {
            "bin_start": 3.4,
            "bin_end": 3.6999999999999997,
            "count": 0
           },
           {
            "bin_start": 3.6999999999999997,
            "bin_end": 4,
            "count": 4
           }
          ]
         }
        },
        {
         "name": "extra_sauce",
         "dtype": "int64",
         "stats": {
          "unique_count": 2,
          "nan_count": 0,
          "min": "0",
          "max": "1",
          "histogram": [
           {
            "bin_start": 0,
            "bin_end": 0.1,
            "count": 2
           },
           {
            "bin_start": 0.1,
            "bin_end": 0.2,
            "count": 0
           },
           {
            "bin_start": 0.2,
            "bin_end": 0.30000000000000004,
            "count": 0
           },
           {
            "bin_start": 0.30000000000000004,
            "bin_end": 0.4,
            "count": 0
           },
           {
            "bin_start": 0.4,
            "bin_end": 0.5,
            "count": 0
           },
           {
            "bin_start": 0.5,
            "bin_end": 0.6000000000000001,
            "count": 0
           },
           {
            "bin_start": 0.6000000000000001,
            "bin_end": 0.7000000000000001,
            "count": 0
           },
           {
            "bin_start": 0.7000000000000001,
            "bin_end": 0.8,
            "count": 0
           },
           {
            "bin_start": 0.8,
            "bin_end": 0.9,
            "count": 0
           },
           {
            "bin_start": 0.9,
            "bin_end": 1,
            "count": 8
           }
          ]
         }
        },
        {
         "name": "extra_cheese",
         "dtype": "int64",
         "stats": {
          "unique_count": 2,
          "nan_count": 0,
          "min": "0",
          "max": "1",
          "histogram": [
           {
            "bin_start": 0,
            "bin_end": 0.1,
            "count": 2
           },
           {
            "bin_start": 0.1,
            "bin_end": 0.2,
            "count": 0
           },
           {
            "bin_start": 0.2,
            "bin_end": 0.30000000000000004,
            "count": 0
           },
           {
            "bin_start": 0.30000000000000004,
            "bin_end": 0.4,
            "count": 0
           },
           {
            "bin_start": 0.4,
            "bin_end": 0.5,
            "count": 0
           },
           {
            "bin_start": 0.5,
            "bin_end": 0.6000000000000001,
            "count": 0
           },
           {
            "bin_start": 0.6000000000000001,
            "bin_end": 0.7000000000000001,
            "count": 0
           },
           {
            "bin_start": 0.7000000000000001,
            "bin_end": 0.8,
            "count": 0
           },
           {
            "bin_start": 0.8,
            "bin_end": 0.9,
            "count": 0
           },
           {
            "bin_start": 0.9,
            "bin_end": 1,
            "count": 8
           }
          ]
         }
        },
        {
         "name": "price_soles",
         "dtype": "float64",
         "stats": {
          "unique_count": 8,
          "nan_count": 0,
          "min": "17.4",
          "max": "66.7",
          "histogram": [
           {
            "bin_start": 17.4,
            "bin_end": 22.33,
            "count": 4
           },
           {
            "bin_start": 22.33,
            "bin_end": 27.259999999999998,
            "count": 2
           },
           {
            "bin_start": 27.259999999999998,
            "bin_end": 32.19,
            "count": 0
           },
           {
            "bin_start": 32.19,
            "bin_end": 37.120000000000005,
            "count": 2
           },
           {
            "bin_start": 37.120000000000005,
            "bin_end": 42.05,
            "count": 0
           },
           {
            "bin_start": 42.05,
            "bin_end": 46.980000000000004,
            "count": 1
           },
           {
            "bin_start": 46.980000000000004,
            "bin_end": 51.910000000000004,
            "count": 0
           },
           {
            "bin_start": 51.910000000000004,
            "bin_end": 56.84,
            "count": 0
           },
           {
            "bin_start": 56.84,
            "bin_end": 61.77,
            "count": 0
           },
           {
            "bin_start": 61.77,
            "bin_end": 66.7,
            "count": 1
           }
          ]
         }
        },
        {
         "name": "_deepnote_index_column",
         "dtype": "int64"
        }
       ],
       "rows_top": [
        {
         "company": 1,
         "diameter": 12,
         "topping": 9,
         "variant": 6,
         "size": 3,
         "extra_sauce": 1,
         "extra_cheese": 1,
         "price_soles": 35.67,
         "_deepnote_index_column": 36
        },
        {
         "company": 2,
         "diameter": 12,
         "topping": 3,
         "variant": 12,
         "size": 3,
         "extra_sauce": 1,
         "extra_cheese": 1,
         "price_soles": 17.4,
         "_deepnote_index_column": 62
        },
        {
         "company": 4,
         "diameter": 12,
         "topping": 9,
         "variant": 6,
         "size": 3,
         "extra_sauce": 1,
         "extra_cheese": 1,
         "price_soles": 35.67,
         "_deepnote_index_column": 111
        },
        {
         "company": 0,
         "diameter": 12,
         "topping": 4,
         "variant": 18,
         "size": 4,
         "extra_sauce": 0,
         "extra_cheese": 1,
         "price_soles": 26.1,
         "_deepnote_index_column": 14
        },
        {
         "company": 3,
         "diameter": 12,
         "topping": 2,
         "variant": 4,
         "size": 3,
         "extra_sauce": 0,
         "extra_cheese": 1,
         "price_soles": 20.01,
         "_deepnote_index_column": 96
        },
        {
         "company": 3,
         "diameter": 22,
         "topping": 2,
         "variant": 7,
         "size": 1,
         "extra_sauce": 1,
         "extra_cheese": 1,
         "price_soles": 66.7,
         "_deepnote_index_column": 84
        },
        {
         "company": 3,
         "diameter": 16.5,
         "topping": 2,
         "variant": 7,
         "size": 4,
         "extra_sauce": 1,
         "extra_cheese": 0,
         "price_soles": 43.21,
         "_deepnote_index_column": 88
        },
        {
         "company": 3,
         "diameter": 8,
         "topping": 2,
         "variant": 13,
         "size": 4,
         "extra_sauce": 1,
         "extra_cheese": 1,
         "price_soles": 20.3,
         "_deepnote_index_column": 81
        },
        {
         "company": 0,
         "diameter": 12,
         "topping": 5,
         "variant": 3,
         "size": 4,
         "extra_sauce": 1,
         "extra_cheese": 0,
         "price_soles": 26.1,
         "_deepnote_index_column": 8
        },
        {
         "company": 1,
         "diameter": 14,
         "topping": 4,
         "variant": 4,
         "size": 2,
         "extra_sauce": 1,
         "extra_cheese": 1,
         "price_soles": 20.88,
         "_deepnote_index_column": 45
        }
       ],
       "rows_bottom": null
      },
      "text/plain": "     company  diameter  topping  variant  size  extra_sauce  extra_cheese  \\\n36         1      12.0        9        6     3            1             1   \n62         2      12.0        3       12     3            1             1   \n111        4      12.0        9        6     3            1             1   \n14         0      12.0        4       18     4            0             1   \n96         3      12.0        2        4     3            0             1   \n84         3      22.0        2        7     1            1             1   \n88         3      16.5        2        7     4            1             0   \n81         3       8.0        2       13     4            1             1   \n8          0      12.0        5        3     4            1             0   \n45         1      14.0        4        4     2            1             1   \n\n     price_soles  \n36         35.67  \n62         17.40  \n111        35.67  \n14         26.10  \n96         20.01  \n84         66.70  \n88         43.21  \n81         20.30  \n8          26.10  \n45         20.88  ",
      "text/html": "<div>\n<style scoped>\n    .dataframe tbody tr th:only-of-type {\n        vertical-align: middle;\n    }\n\n    .dataframe tbody tr th {\n        vertical-align: top;\n    }\n\n    .dataframe thead th {\n        text-align: right;\n    }\n</style>\n<table border=\"1\" class=\"dataframe\">\n  <thead>\n    <tr style=\"text-align: right;\">\n      <th></th>\n      <th>company</th>\n      <th>diameter</th>\n      <th>topping</th>\n      <th>variant</th>\n      <th>size</th>\n      <th>extra_sauce</th>\n      <th>extra_cheese</th>\n      <th>price_soles</th>\n    </tr>\n  </thead>\n  <tbody>\n    <tr>\n      <th>36</th>\n      <td>1</td>\n      <td>12.0</td>\n      <td>9</td>\n      <td>6</td>\n      <td>3</td>\n      <td>1</td>\n      <td>1</td>\n      <td>35.67</td>\n    </tr>\n    <tr>\n      <th>62</th>\n      <td>2</td>\n      <td>12.0</td>\n      <td>3</td>\n      <td>12</td>\n      <td>3</td>\n      <td>1</td>\n      <td>1</td>\n      <td>17.40</td>\n    </tr>\n    <tr>\n      <th>111</th>\n      <td>4</td>\n      <td>12.0</td>\n      <td>9</td>\n      <td>6</td>\n      <td>3</td>\n      <td>1</td>\n      <td>1</td>\n      <td>35.67</td>\n    </tr>\n    <tr>\n      <th>14</th>\n      <td>0</td>\n      <td>12.0</td>\n      <td>4</td>\n      <td>18</td>\n      <td>4</td>\n      <td>0</td>\n      <td>1</td>\n      <td>26.10</td>\n    </tr>\n    <tr>\n      <th>96</th>\n      <td>3</td>\n      <td>12.0</td>\n      <td>2</td>\n      <td>4</td>\n      <td>3</td>\n      <td>0</td>\n      <td>1</td>\n      <td>20.01</td>\n    </tr>\n    <tr>\n      <th>84</th>\n      <td>3</td>\n      <td>22.0</td>\n      <td>2</td>\n      <td>7</td>\n      <td>1</td>\n      <td>1</td>\n      <td>1</td>\n      <td>66.70</td>\n    </tr>\n    <tr>\n      <th>88</th>\n      <td>3</td>\n      <td>16.5</td>\n      <td>2</td>\n      <td>7</td>\n      <td>4</td>\n      <td>1</td>\n      <td>0</td>\n      <td>43.21</td>\n    </tr>\n    <tr>\n      <th>81</th>\n      <td>3</td>\n      <td>8.0</td>\n      <td>2</td>\n      <td>13</td>\n      <td>4</td>\n      <td>1</td>\n      <td>1</td>\n      <td>20.30</td>\n    </tr>\n    <tr>\n      <th>8</th>\n      <td>0</td>\n      <td>12.0</td>\n      <td>5</td>\n      <td>3</td>\n      <td>4</td>\n      <td>1</td>\n      <td>0</td>\n      <td>26.10</td>\n    </tr>\n    <tr>\n      <th>45</th>\n      <td>1</td>\n      <td>14.0</td>\n      <td>4</td>\n      <td>4</td>\n      <td>2</td>\n      <td>1</td>\n      <td>1</td>\n      <td>20.88</td>\n    </tr>\n  </tbody>\n</table>\n</div>"
     },
     "metadata": {}
    }
   ]
  },
  {
   "cell_type": "markdown",
   "source": "ya teniendo nuestros datos númericos, podemos hacer un escalamiento de  nuestros datos, para esto utilizaremos el escaliento Z o standar que mátemeticamente se representa como $X_{s} = \\frac{x-\\mu}{\\sigma}$ donde $\\mu$ es la mediana y $\\sigma$ la varianza.",
   "metadata": {
    "tags": [],
    "cell_id": "00028-9c1bbf63-b22c-481d-8fef-1311862a1271",
    "deepnote_cell_type": "markdown"
   }
  },
  {
   "cell_type": "code",
   "metadata": {
    "tags": [],
    "cell_id": "00029-eabd0f76-050f-472a-b004-e0b1d2881330",
    "deepnote_to_be_reexecuted": false,
    "source_hash": "5dd71c4a",
    "execution_start": 1633277820326,
    "execution_millis": 78,
    "deepnote_cell_type": "code"
   },
   "source": "for i in df.columns:\n    scaler = StandardScaler().fit(df[i].values.reshape(-1,1))\n    df[i] = scaler.transform(df[i].values.reshape(-1,1))\ndf = df.apply(lambda x: round(x,3))\ndf.sample(10)",
   "execution_count": null,
   "outputs": [
    {
     "output_type": "execute_result",
     "execution_count": 58,
     "data": {
      "application/vnd.deepnote.dataframe.v2+json": {
       "row_count": 10,
       "column_count": 8,
       "columns": [
        {
         "name": "company",
         "dtype": "float64",
         "stats": {
          "unique_count": 4,
          "nan_count": 0,
          "min": "-1.423",
          "max": "1.389",
          "histogram": [
           {
            "bin_start": -1.423,
            "bin_end": -1.1418,
            "count": 4
           },
           {
            "bin_start": -1.1418,
            "bin_end": -0.8606,
            "count": 0
           },
           {
            "bin_start": -0.8606,
            "bin_end": -0.5794,
            "count": 3
           },
           {
            "bin_start": -0.5794,
            "bin_end": -0.2982,
            "count": 0
           },
           {
            "bin_start": -0.2982,
            "bin_end": -0.016999999999999904,
            "count": 1
           },
           {
            "bin_start": -0.016999999999999904,
            "bin_end": 0.2642,
            "count": 0
           },
           {
            "bin_start": 0.2642,
            "bin_end": 0.5453999999999999,
            "count": 0
           },
           {
            "bin_start": 0.5453999999999999,
            "bin_end": 0.8266,
            "count": 0
           },
           {
            "bin_start": 0.8266,
            "bin_end": 1.1078000000000001,
            "count": 0
           },
           {
            "bin_start": 1.1078000000000001,
            "bin_end": 1.389,
            "count": 2
           }
          ]
         }
        },
        {
         "name": "diameter",
         "dtype": "float64",
         "stats": {
          "unique_count": 6,
          "nan_count": 0,
          "min": "-1.507",
          "max": "2.198",
          "histogram": [
           {
            "bin_start": -1.507,
            "bin_end": -1.1364999999999998,
            "count": 2
           },
           {
            "bin_start": -1.1364999999999998,
            "bin_end": -0.7659999999999999,
            "count": 0
           },
           {
            "bin_start": -0.7659999999999999,
            "bin_end": -0.39549999999999996,
            "count": 0
           },
           {
            "bin_start": -0.39549999999999996,
            "bin_end": -0.02499999999999991,
            "count": 4
           },
           {
            "bin_start": -0.02499999999999991,
            "bin_end": 0.34550000000000014,
            "count": 0
           },
           {
            "bin_start": 0.34550000000000014,
            "bin_end": 0.716,
            "count": 1
           },
           {
            "bin_start": 0.716,
            "bin_end": 1.0865000000000002,
            "count": 0
           },
           {
            "bin_start": 1.0865000000000002,
            "bin_end": 1.457,
            "count": 2
           },
           {
            "bin_start": 1.457,
            "bin_end": 1.8275,
            "count": 0
           },
           {
            "bin_start": 1.8275,
            "bin_end": 2.198,
            "count": 1
           }
          ]
         }
        },
        {
         "name": "topping",
         "dtype": "float64",
         "stats": {
          "unique_count": 6,
          "nan_count": 0,
          "min": "-1.049",
          "max": "1.138",
          "histogram": [
           {
            "bin_start": -1.049,
            "bin_end": -0.8302999999999999,
            "count": 1
           },
           {
            "bin_start": -0.8302999999999999,
            "bin_end": -0.6115999999999999,
            "count": 1
           },
           {
            "bin_start": -0.6115999999999999,
            "bin_end": -0.3929,
            "count": 1
           },
           {
            "bin_start": -0.3929,
            "bin_end": -0.17420000000000002,
            "count": 0
           },
           {
            "bin_start": -0.17420000000000002,
            "bin_end": 0.044499999999999984,
            "count": 2
           },
           {
            "bin_start": 0.044499999999999984,
            "bin_end": 0.2631999999999999,
            "count": 0
           },
           {
            "bin_start": 0.2631999999999999,
            "bin_end": 0.4819,
            "count": 0
           },
           {
            "bin_start": 0.4819,
            "bin_end": 0.7005999999999999,
            "count": 1
           },
           {
            "bin_start": 0.7005999999999999,
            "bin_end": 0.9192999999999998,
            "count": 0
           },
           {
            "bin_start": 0.9192999999999998,
            "bin_end": 1.138,
            "count": 4
           }
          ]
         }
        },
        {
         "name": "variant",
         "dtype": "float64",
         "stats": {
          "unique_count": 8,
          "nan_count": 0,
          "min": "-0.96",
          "max": "1.925",
          "histogram": [
           {
            "bin_start": -0.96,
            "bin_end": -0.6715,
            "count": 3
           },
           {
            "bin_start": -0.6715,
            "bin_end": -0.383,
            "count": 0
           },
           {
            "bin_start": -0.383,
            "bin_end": -0.09450000000000003,
            "count": 2
           },
           {
            "bin_start": -0.09450000000000003,
            "bin_end": 0.19399999999999995,
            "count": 1
           },
           {
            "bin_start": 0.19399999999999995,
            "bin_end": 0.48249999999999993,
            "count": 0
           },
           {
            "bin_start": 0.48249999999999993,
            "bin_end": 0.7709999999999999,
            "count": 0
           },
           {
            "bin_start": 0.7709999999999999,
            "bin_end": 1.0594999999999999,
            "count": 1
           },
           {
            "bin_start": 1.0594999999999999,
            "bin_end": 1.3479999999999999,
            "count": 0
           },
           {
            "bin_start": 1.3479999999999999,
            "bin_end": 1.6364999999999998,
            "count": 2
           },
           {
            "bin_start": 1.6364999999999998,
            "bin_end": 1.925,
            "count": 1
           }
          ]
         }
        },
        {
         "name": "size",
         "dtype": "float64",
         "stats": {
          "unique_count": 5,
          "nan_count": 0,
          "min": "-2.079",
          "max": "1.461",
          "histogram": [
           {
            "bin_start": -2.079,
            "bin_end": -1.725,
            "count": 2
           },
           {
            "bin_start": -1.725,
            "bin_end": -1.3710000000000002,
            "count": 0
           },
           {
            "bin_start": -1.3710000000000002,
            "bin_end": -1.0170000000000003,
            "count": 1
           },
           {
            "bin_start": -1.0170000000000003,
            "bin_end": -0.6630000000000003,
            "count": 0
           },
           {
            "bin_start": -0.6630000000000003,
            "bin_end": -0.30900000000000016,
            "count": 0
           },
           {
            "bin_start": -0.30900000000000016,
            "bin_end": 0.044999999999999485,
            "count": 0
           },
           {
            "bin_start": 0.044999999999999485,
            "bin_end": 0.3989999999999996,
            "count": 3
           },
           {
            "bin_start": 0.3989999999999996,
            "bin_end": 0.7529999999999997,
            "count": 0
           },
           {
            "bin_start": 0.7529999999999997,
            "bin_end": 1.1069999999999998,
            "count": 3
           },
           {
            "bin_start": 1.1069999999999998,
            "bin_end": 1.461,
            "count": 1
           }
          ]
         }
        },
        {
         "name": "extra_sauce",
         "dtype": "float64",
         "stats": {
          "unique_count": 2,
          "nan_count": 0,
          "min": "-1.233",
          "max": "0.811",
          "histogram": [
           {
            "bin_start": -1.233,
            "bin_end": -1.0286000000000002,
            "count": 2
           },
           {
            "bin_start": -1.0286000000000002,
            "bin_end": -0.8242,
            "count": 0
           },
           {
            "bin_start": -0.8242,
            "bin_end": -0.6198000000000001,
            "count": 0
           },
           {
            "bin_start": -0.6198000000000001,
            "bin_end": -0.4154000000000001,
            "count": 0
           },
           {
            "bin_start": -0.4154000000000001,
            "bin_end": -0.21100000000000008,
            "count": 0
           },
           {
            "bin_start": -0.21100000000000008,
            "bin_end": -0.006600000000000161,
            "count": 0
           },
           {
            "bin_start": -0.006600000000000161,
            "bin_end": 0.19779999999999998,
            "count": 0
           },
           {
            "bin_start": 0.19779999999999998,
            "bin_end": 0.4021999999999999,
            "count": 0
           },
           {
            "bin_start": 0.4021999999999999,
            "bin_end": 0.6065999999999998,
            "count": 0
           },
           {
            "bin_start": 0.6065999999999998,
            "bin_end": 0.811,
            "count": 8
           }
          ]
         }
        },
        {
         "name": "extra_cheese",
         "dtype": "float64",
         "stats": {
          "unique_count": 2,
          "nan_count": 0,
          "min": "-1.389",
          "max": "0.72",
          "histogram": [
           {
            "bin_start": -1.389,
            "bin_end": -1.1781,
            "count": 2
           },
           {
            "bin_start": -1.1781,
            "bin_end": -0.9672000000000001,
            "count": 0
           },
           {
            "bin_start": -0.9672000000000001,
            "bin_end": -0.7563,
            "count": 0
           },
           {
            "bin_start": -0.7563,
            "bin_end": -0.5454,
            "count": 0
           },
           {
            "bin_start": -0.5454,
            "bin_end": -0.3345,
            "count": 0
           },
           {
            "bin_start": -0.3345,
            "bin_end": -0.12359999999999993,
            "count": 0
           },
           {
            "bin_start": -0.12359999999999993,
            "bin_end": 0.08729999999999993,
            "count": 0
           },
           {
            "bin_start": 0.08729999999999993,
            "bin_end": 0.2982,
            "count": 0
           },
           {
            "bin_start": 0.2982,
            "bin_end": 0.5091000000000001,
            "count": 0
           },
           {
            "bin_start": 0.5091000000000001,
            "bin_end": 0.72,
            "count": 8
           }
          ]
         }
        },
        {
         "name": "price_soles",
         "dtype": "float64",
         "stats": {
          "unique_count": 10,
          "nan_count": 0,
          "min": "-0.911",
          "max": "2.467",
          "histogram": [
           {
            "bin_start": -0.911,
            "bin_end": -0.5732,
            "count": 2
           },
           {
            "bin_start": -0.5732,
            "bin_end": -0.23540000000000005,
            "count": 2
           },
           {
            "bin_start": -0.23540000000000005,
            "bin_end": 0.10239999999999982,
            "count": 1
           },
           {
            "bin_start": 0.10239999999999982,
            "bin_end": 0.4401999999999999,
            "count": 0
           },
           {
            "bin_start": 0.4401999999999999,
            "bin_end": 0.778,
            "count": 3
           },
           {
            "bin_start": 0.778,
            "bin_end": 1.1157999999999997,
            "count": 1
           },
           {
            "bin_start": 1.1157999999999997,
            "bin_end": 1.4535999999999998,
            "count": 0
           },
           {
            "bin_start": 1.4535999999999998,
            "bin_end": 1.7913999999999999,
            "count": 0
           },
           {
            "bin_start": 1.7913999999999999,
            "bin_end": 2.1292,
            "count": 0
           },
           {
            "bin_start": 2.1292,
            "bin_end": 2.467,
            "count": 1
           }
          ]
         }
        },
        {
         "name": "_deepnote_index_column",
         "dtype": "int64"
        }
       ],
       "rows_top": [
        {
         "company": -0.017,
         "diameter": -0.272,
         "topping": -0.736,
         "variant": 0.771,
         "size": 0.045,
         "extra_sauce": 0.811,
         "extra_cheese": 0.72,
         "price_soles": -0.6,
         "_deepnote_index_column": 62
        },
        {
         "company": -1.423,
         "diameter": -1.507,
         "topping": 1.138,
         "variant": 1.925,
         "size": 0.753,
         "extra_sauce": 0.811,
         "extra_cheese": 0.72,
         "price_soles": -0.378,
         "_deepnote_index_column": 12
        },
        {
         "company": -0.72,
         "diameter": 1.272,
         "topping": -0.112,
         "variant": 1.348,
         "size": -2.079,
         "extra_sauce": 0.811,
         "extra_cheese": -1.389,
         "price_soles": 0.711,
         "_deepnote_index_column": 41
        },
        {
         "company": -0.72,
         "diameter": 1.272,
         "topping": -0.424,
         "variant": 1.348,
         "size": -2.079,
         "extra_sauce": -1.233,
         "extra_cheese": 0.72,
         "price_soles": 0.622,
         "_deepnote_index_column": 35
        },
        {
         "company": -1.423,
         "diameter": 2.198,
         "topping": 0.513,
         "variant": 0.002,
         "size": -1.371,
         "extra_sauce": 0.811,
         "extra_cheese": 0.72,
         "price_soles": 2.467,
         "_deepnote_index_column": 1
        },
        {
         "company": -1.423,
         "diameter": -0.272,
         "topping": 1.138,
         "variant": -0.96,
         "size": 0.753,
         "extra_sauce": -1.233,
         "extra_cheese": -1.389,
         "price_soles": 0.067,
         "_deepnote_index_column": 9
        },
        {
         "company": -0.72,
         "diameter": -0.272,
         "topping": 1.138,
         "variant": -0.383,
         "size": 0.045,
         "extra_sauce": 0.811,
         "extra_cheese": 0.72,
         "price_soles": 0.8,
         "_deepnote_index_column": 36
        },
        {
         "company": -1.423,
         "diameter": 0.346,
         "topping": -1.049,
         "variant": -0.191,
         "size": 0.753,
         "extra_sauce": 0.811,
         "extra_cheese": 0.72,
         "price_soles": 0.6,
         "_deepnote_index_column": 22
        },
        {
         "company": 1.389,
         "diameter": -0.272,
         "topping": -0.112,
         "variant": -0.768,
         "size": 0.045,
         "extra_sauce": 0.811,
         "extra_cheese": 0.72,
         "price_soles": -0.911,
         "_deepnote_index_column": 119
        },
        {
         "company": 1.389,
         "diameter": -1.353,
         "topping": 1.138,
         "variant": -0.768,
         "size": 1.461,
         "extra_sauce": 0.811,
         "extra_cheese": 0.72,
         "price_soles": -0.267,
         "_deepnote_index_column": 118
        }
       ],
       "rows_bottom": null
      },
      "text/plain": "     company  diameter  topping  variant   size  extra_sauce  extra_cheese  \\\n62    -0.017    -0.272   -0.736    0.771  0.045        0.811         0.720   \n12    -1.423    -1.507    1.138    1.925  0.753        0.811         0.720   \n41    -0.720     1.272   -0.112    1.348 -2.079        0.811        -1.389   \n35    -0.720     1.272   -0.424    1.348 -2.079       -1.233         0.720   \n1     -1.423     2.198    0.513    0.002 -1.371        0.811         0.720   \n9     -1.423    -0.272    1.138   -0.960  0.753       -1.233        -1.389   \n36    -0.720    -0.272    1.138   -0.383  0.045        0.811         0.720   \n22    -1.423     0.346   -1.049   -0.191  0.753        0.811         0.720   \n119    1.389    -0.272   -0.112   -0.768  0.045        0.811         0.720   \n118    1.389    -1.353    1.138   -0.768  1.461        0.811         0.720   \n\n     price_soles  \n62        -0.600  \n12        -0.378  \n41         0.711  \n35         0.622  \n1          2.467  \n9          0.067  \n36         0.800  \n22         0.600  \n119       -0.911  \n118       -0.267  ",
      "text/html": "<div>\n<style scoped>\n    .dataframe tbody tr th:only-of-type {\n        vertical-align: middle;\n    }\n\n    .dataframe tbody tr th {\n        vertical-align: top;\n    }\n\n    .dataframe thead th {\n        text-align: right;\n    }\n</style>\n<table border=\"1\" class=\"dataframe\">\n  <thead>\n    <tr style=\"text-align: right;\">\n      <th></th>\n      <th>company</th>\n      <th>diameter</th>\n      <th>topping</th>\n      <th>variant</th>\n      <th>size</th>\n      <th>extra_sauce</th>\n      <th>extra_cheese</th>\n      <th>price_soles</th>\n    </tr>\n  </thead>\n  <tbody>\n    <tr>\n      <th>62</th>\n      <td>-0.017</td>\n      <td>-0.272</td>\n      <td>-0.736</td>\n      <td>0.771</td>\n      <td>0.045</td>\n      <td>0.811</td>\n      <td>0.720</td>\n      <td>-0.600</td>\n    </tr>\n    <tr>\n      <th>12</th>\n      <td>-1.423</td>\n      <td>-1.507</td>\n      <td>1.138</td>\n      <td>1.925</td>\n      <td>0.753</td>\n      <td>0.811</td>\n      <td>0.720</td>\n      <td>-0.378</td>\n    </tr>\n    <tr>\n      <th>41</th>\n      <td>-0.720</td>\n      <td>1.272</td>\n      <td>-0.112</td>\n      <td>1.348</td>\n      <td>-2.079</td>\n      <td>0.811</td>\n      <td>-1.389</td>\n      <td>0.711</td>\n    </tr>\n    <tr>\n      <th>35</th>\n      <td>-0.720</td>\n      <td>1.272</td>\n      <td>-0.424</td>\n      <td>1.348</td>\n      <td>-2.079</td>\n      <td>-1.233</td>\n      <td>0.720</td>\n      <td>0.622</td>\n    </tr>\n    <tr>\n      <th>1</th>\n      <td>-1.423</td>\n      <td>2.198</td>\n      <td>0.513</td>\n      <td>0.002</td>\n      <td>-1.371</td>\n      <td>0.811</td>\n      <td>0.720</td>\n      <td>2.467</td>\n    </tr>\n    <tr>\n      <th>9</th>\n      <td>-1.423</td>\n      <td>-0.272</td>\n      <td>1.138</td>\n      <td>-0.960</td>\n      <td>0.753</td>\n      <td>-1.233</td>\n      <td>-1.389</td>\n      <td>0.067</td>\n    </tr>\n    <tr>\n      <th>36</th>\n      <td>-0.720</td>\n      <td>-0.272</td>\n      <td>1.138</td>\n      <td>-0.383</td>\n      <td>0.045</td>\n      <td>0.811</td>\n      <td>0.720</td>\n      <td>0.800</td>\n    </tr>\n    <tr>\n      <th>22</th>\n      <td>-1.423</td>\n      <td>0.346</td>\n      <td>-1.049</td>\n      <td>-0.191</td>\n      <td>0.753</td>\n      <td>0.811</td>\n      <td>0.720</td>\n      <td>0.600</td>\n    </tr>\n    <tr>\n      <th>119</th>\n      <td>1.389</td>\n      <td>-0.272</td>\n      <td>-0.112</td>\n      <td>-0.768</td>\n      <td>0.045</td>\n      <td>0.811</td>\n      <td>0.720</td>\n      <td>-0.911</td>\n    </tr>\n    <tr>\n      <th>118</th>\n      <td>1.389</td>\n      <td>-1.353</td>\n      <td>1.138</td>\n      <td>-0.768</td>\n      <td>1.461</td>\n      <td>0.811</td>\n      <td>0.720</td>\n      <td>-0.267</td>\n    </tr>\n  </tbody>\n</table>\n</div>"
     },
     "metadata": {}
    }
   ]
  },
  {
   "cell_type": "markdown",
   "source": "## 1.4. Visualización de los datos",
   "metadata": {
    "tags": [],
    "is_collapsed": false,
    "cell_id": "00029-7b9fad27-e88e-424d-92b6-46a57168d169",
    "deepnote_cell_type": "text-cell-h2"
   }
  },
  {
   "cell_type": "markdown",
   "source": "Como se menciono anteriormente en regresión lineal, analizamos la relación existente entre variables de entrada y variables de salida, para que exista esta relación debemos analizar la corelación de nuestros datos y visualizaremos los scatter plot de dos variables ver la correlación existente entre ellas.",
   "metadata": {
    "tags": [],
    "cell_id": "00026-7f9181a5-39df-485d-a778-84cf1d4bea98",
    "deepnote_cell_type": "markdown"
   }
  },
  {
   "cell_type": "code",
   "metadata": {
    "tags": [],
    "cell_id": "00018-cdea82a7-464e-4f1d-b96f-385050123d01",
    "deepnote_to_be_reexecuted": false,
    "source_hash": "266b3c15",
    "execution_start": 1633277832759,
    "execution_millis": 848,
    "deepnote_cell_type": "code"
   },
   "source": "sns.heatmap(df.corr(), cbar= True, square=True, fmt= '.1f', annot=True);",
   "execution_count": null,
   "outputs": [
    {
     "data": {
      "text/plain": "<Figure size 432x288 with 2 Axes>",
      "image/png": "[encoded data removed]"
     },
     "metadata": {
      "needs_background": "light",
      "image/png": {
       "width": 370,
       "height": 309
      }
     },
     "output_type": "display_data"
    }
   ]
  },
  {
   "cell_type": "markdown",
   "source": "Despues de analizar la correlación, nos damos cuenta que el precio de la pizza esta fuertemente correlacionado con el diametro de la pizza y el diametro a su vez presenta una gran relación con el tamaño de la pizza. Además podemos ver que el que extra_sauce, extra_cheese, topping y variant presentan una correlación baja con el precio de la pizza. A continuación podemos hacer una visualización de una linea recta que podría relacionar el precio con el diametro",
   "metadata": {
    "tags": [],
    "cell_id": "00029-1de691c7-6a6c-4202-ad97-9e4dbbbc0f88",
    "deepnote_cell_type": "markdown"
   }
  },
  {
   "cell_type": "code",
   "metadata": {
    "tags": [],
    "cell_id": "00020-fd59402f-45ce-495d-9548-e72d9d4c4af1",
    "deepnote_to_be_reexecuted": false,
    "source_hash": "14e547de",
    "execution_start": 1633277837275,
    "execution_millis": 456,
    "deepnote_cell_type": "code"
   },
   "source": "sns.regplot(x=df.price_soles, y=df.diameter, data=df);",
   "execution_count": null,
   "outputs": [
    {
     "data": {
      "text/plain": "<Figure size 432x288 with 1 Axes>",
      "image/png": "[encoded data removed]"
     },
     "metadata": {
      "needs_background": "light",
      "image/png": {
       "width": 384,
       "height": 263
      }
     },
     "output_type": "display_data"
    }
   ]
  },
  {
   "cell_type": "markdown",
   "source": "## 2. Implementación del modelo",
   "metadata": {
    "tags": [],
    "cell_id": "00019-1ae9994e-8c87-483c-8e8b-b303d4342dca",
    "deepnote_cell_type": "markdown"
   }
  },
  {
   "cell_type": "markdown",
   "source": "Del analisis obtenido al hacer una visualización de los datos, deducimos que los valores que más aportan al resultado final son diameter y size. Para la implementación de nuestro modelo, utilizaremos tambien company y veremos los resultados.",
   "metadata": {
    "tags": [],
    "cell_id": "00037-773a0ddd-a83d-41dc-ae30-eb8f2f812e8f",
    "deepnote_cell_type": "markdown"
   }
  },
  {
   "cell_type": "markdown",
   "source": "### 2.1. Splitting Data",
   "metadata": {
    "tags": [],
    "cell_id": "00022-ca783037-52cd-4ea0-883c-75cca8edd655",
    "deepnote_cell_type": "markdown"
   }
  },
  {
   "cell_type": "markdown",
   "source": "Antes de continuar con la implementación del modelo, copiaremos nuestro DataFrame en una variable X que es la que usaremos para realizar la separación entre nuestros datos de entrenamiento y datos para el testing. Además haremos esta división en un 30% para testing y el resto para el entrenamiento.",
   "metadata": {
    "tags": [],
    "cell_id": "00039-00e8f8ce-868e-4128-a4b2-a1931d5f2478",
    "deepnote_cell_type": "markdown"
   }
  },
  {
   "cell_type": "code",
   "metadata": {
    "tags": [],
    "cell_id": "00020-36b626dc-d475-418b-82a8-9a93935bfec0",
    "deepnote_to_be_reexecuted": false,
    "source_hash": "d9e70ff6",
    "execution_start": 1633278367213,
    "execution_millis": 20,
    "deepnote_cell_type": "code"
   },
   "source": "X =df.copy(deep=True)\nX = X[['diameter', 'size', 'price_soles']]\nX.sample(10)",
   "execution_count": null,
   "outputs": [
    {
     "output_type": "execute_result",
     "execution_count": 79,
     "data": {
      "application/vnd.deepnote.dataframe.v2+json": {
       "row_count": 10,
       "column_count": 3,
       "columns": [
        {
         "name": "diameter",
         "dtype": "float64",
         "stats": {
          "unique_count": 4,
          "nan_count": 0,
          "min": "-1.507",
          "max": "1.272",
          "histogram": [
           {
            "bin_start": -1.507,
            "bin_end": -1.2290999999999999,
            "count": 1
           },
           {
            "bin_start": -1.2290999999999999,
            "bin_end": -0.9511999999999999,
            "count": 0
           },
           {
            "bin_start": -0.9511999999999999,
            "bin_end": -0.6733,
            "count": 0
           },
           {
            "bin_start": -0.6733,
            "bin_end": -0.3954,
            "count": 0
           },
           {
            "bin_start": -0.3954,
            "bin_end": -0.11749999999999994,
            "count": 5
           },
           {
            "bin_start": -0.11749999999999994,
            "bin_end": 0.16039999999999988,
            "count": 0
           },
           {
            "bin_start": 0.16039999999999988,
            "bin_end": 0.4382999999999999,
            "count": 1
           },
           {
            "bin_start": 0.4382999999999999,
            "bin_end": 0.7162,
            "count": 0
           },
           {
            "bin_start": 0.7162,
            "bin_end": 0.9940999999999998,
            "count": 0
           },
           {
            "bin_start": 0.9940999999999998,
            "bin_end": 1.272,
            "count": 3
           }
          ]
         }
        },
        {
         "name": "size",
         "dtype": "float64",
         "stats": {
          "unique_count": 4,
          "nan_count": 0,
          "min": "-2.079",
          "max": "0.753",
          "histogram": [
           {
            "bin_start": -2.079,
            "bin_end": -1.7958000000000003,
            "count": 3
           },
           {
            "bin_start": -1.7958000000000003,
            "bin_end": -1.5126000000000002,
            "count": 0
           },
           {
            "bin_start": -1.5126000000000002,
            "bin_end": -1.2294,
            "count": 0
           },
           {
            "bin_start": -1.2294,
            "bin_end": -0.9462000000000002,
            "count": 0
           },
           {
            "bin_start": -0.9462000000000002,
            "bin_end": -0.6630000000000003,
            "count": 0
           },
           {
            "bin_start": -0.6630000000000003,
            "bin_end": -0.37980000000000014,
            "count": 1
           },
           {
            "bin_start": -0.37980000000000014,
            "bin_end": -0.09660000000000002,
            "count": 0
           },
           {
            "bin_start": -0.09660000000000002,
            "bin_end": 0.18659999999999988,
            "count": 4
           },
           {
            "bin_start": 0.18659999999999988,
            "bin_end": 0.4697999999999998,
            "count": 0
           },
           {
            "bin_start": 0.4697999999999998,
            "bin_end": 0.753,
            "count": 2
           }
          ]
         }
        },
        {
         "name": "price_soles",
         "dtype": "float64",
         "stats": {
          "unique_count": 8,
          "nan_count": 0,
          "min": "-0.6",
          "max": "0.878",
          "histogram": [
           {
            "bin_start": -0.6,
            "bin_end": -0.4522,
            "count": 1
           },
           {
            "bin_start": -0.4522,
            "bin_end": -0.3044,
            "count": 2
           },
           {
            "bin_start": -0.3044,
            "bin_end": -0.15660000000000002,
            "count": 0
           },
           {
            "bin_start": -0.15660000000000002,
            "bin_end": -0.00880000000000003,
            "count": 2
           },
           {
            "bin_start": -0.00880000000000003,
            "bin_end": 0.1389999999999999,
            "count": 1
           },
           {
            "bin_start": 0.1389999999999999,
            "bin_end": 0.28679999999999994,
            "count": 0
           },
           {
            "bin_start": 0.28679999999999994,
            "bin_end": 0.4346,
            "count": 1
           },
           {
            "bin_start": 0.4346,
            "bin_end": 0.5823999999999999,
            "count": 0
           },
           {
            "bin_start": 0.5823999999999999,
            "bin_end": 0.7301999999999998,
            "count": 1
           },
           {
            "bin_start": 0.7301999999999998,
            "bin_end": 0.878,
            "count": 2
           }
          ]
         }
        },
        {
         "name": "_deepnote_index_column",
         "dtype": "int64"
        }
       ],
       "rows_top": [
        {
         "diameter": -1.507,
         "size": 0.753,
         "price_soles": -0.378,
         "_deepnote_index_column": 81
        },
        {
         "diameter": -0.272,
         "size": 0.753,
         "price_soles": 0.067,
         "_deepnote_index_column": 13
        },
        {
         "diameter": 1.272,
         "size": -2.079,
         "price_soles": -0.089,
         "_deepnote_index_column": 29
        },
        {
         "diameter": 1.272,
         "size": -2.079,
         "price_soles": 0.711,
         "_deepnote_index_column": 41
        },
        {
         "diameter": -0.272,
         "size": 0.045,
         "price_soles": 0.878,
         "_deepnote_index_column": 117
        },
        {
         "diameter": -0.272,
         "size": 0.045,
         "price_soles": 0.878,
         "_deepnote_index_column": 42
        },
        {
         "diameter": -0.272,
         "size": 0.045,
         "price_soles": -0.333,
         "_deepnote_index_column": 50
        },
        {
         "diameter": 0.346,
         "size": -0.663,
         "price_soles": 0.4,
         "_deepnote_index_column": 66
        },
        {
         "diameter": 1.272,
         "size": -2.079,
         "price_soles": -0.089,
         "_deepnote_index_column": 93
        },
        {
         "diameter": -0.272,
         "size": 0.045,
         "price_soles": -0.6,
         "_deepnote_index_column": 74
        }
       ],
       "rows_bottom": null
      },
      "text/plain": "     diameter   size  price_soles\n81     -1.507  0.753       -0.378\n13     -0.272  0.753        0.067\n29      1.272 -2.079       -0.089\n41      1.272 -2.079        0.711\n117    -0.272  0.045        0.878\n42     -0.272  0.045        0.878\n50     -0.272  0.045       -0.333\n66      0.346 -0.663        0.400\n93      1.272 -2.079       -0.089\n74     -0.272  0.045       -0.600",
      "text/html": "<div>\n<style scoped>\n    .dataframe tbody tr th:only-of-type {\n        vertical-align: middle;\n    }\n\n    .dataframe tbody tr th {\n        vertical-align: top;\n    }\n\n    .dataframe thead th {\n        text-align: right;\n    }\n</style>\n<table border=\"1\" class=\"dataframe\">\n  <thead>\n    <tr style=\"text-align: right;\">\n      <th></th>\n      <th>diameter</th>\n      <th>size</th>\n      <th>price_soles</th>\n    </tr>\n  </thead>\n  <tbody>\n    <tr>\n      <th>81</th>\n      <td>-1.507</td>\n      <td>0.753</td>\n      <td>-0.378</td>\n    </tr>\n    <tr>\n      <th>13</th>\n      <td>-0.272</td>\n      <td>0.753</td>\n      <td>0.067</td>\n    </tr>\n    <tr>\n      <th>29</th>\n      <td>1.272</td>\n      <td>-2.079</td>\n      <td>-0.089</td>\n    </tr>\n    <tr>\n      <th>41</th>\n      <td>1.272</td>\n      <td>-2.079</td>\n      <td>0.711</td>\n    </tr>\n    <tr>\n      <th>117</th>\n      <td>-0.272</td>\n      <td>0.045</td>\n      <td>0.878</td>\n    </tr>\n    <tr>\n      <th>42</th>\n      <td>-0.272</td>\n      <td>0.045</td>\n      <td>0.878</td>\n    </tr>\n    <tr>\n      <th>50</th>\n      <td>-0.272</td>\n      <td>0.045</td>\n      <td>-0.333</td>\n    </tr>\n    <tr>\n      <th>66</th>\n      <td>0.346</td>\n      <td>-0.663</td>\n      <td>0.400</td>\n    </tr>\n    <tr>\n      <th>93</th>\n      <td>1.272</td>\n      <td>-2.079</td>\n      <td>-0.089</td>\n    </tr>\n    <tr>\n      <th>74</th>\n      <td>-0.272</td>\n      <td>0.045</td>\n      <td>-0.600</td>\n    </tr>\n  </tbody>\n</table>\n</div>"
     },
     "metadata": {}
    }
   ]
  },
  {
   "cell_type": "code",
   "metadata": {
    "tags": [],
    "cell_id": "00021-6f9252af-adef-4d89-8043-f8b225eb1794",
    "deepnote_to_be_reexecuted": false,
    "source_hash": "80b3a674",
    "execution_start": 1633278369735,
    "execution_millis": 3,
    "deepnote_cell_type": "code"
   },
   "source": "y = X['price_soles']\nX = X.drop('price_soles', axis=1)",
   "execution_count": null,
   "outputs": []
  },
  {
   "cell_type": "code",
   "metadata": {
    "tags": [],
    "cell_id": "00022-3e75aee7-6fa9-486e-9697-e3926752ce3d",
    "deepnote_to_be_reexecuted": false,
    "source_hash": "5c12bffb",
    "execution_start": 1633278371216,
    "execution_millis": 12,
    "deepnote_cell_type": "code"
   },
   "source": "y.sample(5)",
   "execution_count": null,
   "outputs": [
    {
     "output_type": "execute_result",
     "execution_count": 81,
     "data": {
      "text/plain": "114   -0.333\n82     0.067\n17    -0.378\n79     1.178\n101   -0.911\nName: price_soles, dtype: float64"
     },
     "metadata": {}
    }
   ]
  },
  {
   "cell_type": "code",
   "metadata": {
    "tags": [],
    "cell_id": "00023-886455b6-2605-4476-99a1-165b386e528a",
    "deepnote_to_be_reexecuted": false,
    "source_hash": "2438dcaa",
    "execution_start": 1633278373692,
    "execution_millis": 6,
    "deepnote_cell_type": "code"
   },
   "source": "X.sample(5)",
   "execution_count": null,
   "outputs": [
    {
     "output_type": "execute_result",
     "execution_count": 82,
     "data": {
      "application/vnd.deepnote.dataframe.v2+json": {
       "row_count": 5,
       "column_count": 2,
       "columns": [
        {
         "name": "diameter",
         "dtype": "float64",
         "stats": {
          "unique_count": 4,
          "nan_count": 0,
          "min": "-1.353",
          "max": "1.272",
          "histogram": [
           {
            "bin_start": -1.353,
            "bin_end": -1.0905,
            "count": 1
           },
           {
            "bin_start": -1.0905,
            "bin_end": -0.828,
            "count": 0
           },
           {
            "bin_start": -0.828,
            "bin_end": -0.5654999999999999,
            "count": 0
           },
           {
            "bin_start": -0.5654999999999999,
            "bin_end": -0.30299999999999994,
            "count": 0
           },
           {
            "bin_start": -0.30299999999999994,
            "bin_end": -0.04049999999999998,
            "count": 2
           },
           {
            "bin_start": -0.04049999999999998,
            "bin_end": 0.2220000000000002,
            "count": 0
           },
           {
            "bin_start": 0.2220000000000002,
            "bin_end": 0.48450000000000015,
            "count": 1
           },
           {
            "bin_start": 0.48450000000000015,
            "bin_end": 0.7470000000000001,
            "count": 0
           },
           {
            "bin_start": 0.7470000000000001,
            "bin_end": 1.0095000000000003,
            "count": 0
           },
           {
            "bin_start": 1.0095000000000003,
            "bin_end": 1.272,
            "count": 1
           }
          ]
         }
        },
        {
         "name": "size",
         "dtype": "float64",
         "stats": {
          "unique_count": 5,
          "nan_count": 0,
          "min": "-2.079",
          "max": "1.461",
          "histogram": [
           {
            "bin_start": -2.079,
            "bin_end": -1.725,
            "count": 1
           },
           {
            "bin_start": -1.725,
            "bin_end": -1.3710000000000002,
            "count": 0
           },
           {
            "bin_start": -1.3710000000000002,
            "bin_end": -1.0170000000000003,
            "count": 0
           },
           {
            "bin_start": -1.0170000000000003,
            "bin_end": -0.6630000000000003,
            "count": 0
           },
           {
            "bin_start": -0.6630000000000003,
            "bin_end": -0.30900000000000016,
            "count": 1
           },
           {
            "bin_start": -0.30900000000000016,
            "bin_end": 0.044999999999999485,
            "count": 0
           },
           {
            "bin_start": 0.044999999999999485,
            "bin_end": 0.3989999999999996,
            "count": 1
           },
           {
            "bin_start": 0.3989999999999996,
            "bin_end": 0.7529999999999997,
            "count": 0
           },
           {
            "bin_start": 0.7529999999999997,
            "bin_end": 1.1069999999999998,
            "count": 1
           },
           {
            "bin_start": 1.1069999999999998,
            "bin_end": 1.461,
            "count": 1
           }
          ]
         }
        },
        {
         "name": "_deepnote_index_column",
         "dtype": "int64"
        }
       ],
       "rows_top": [
        {
         "diameter": -1.353,
         "size": 1.461,
         "_deepnote_index_column": 95
        },
        {
         "diameter": -0.272,
         "size": 0.045,
         "_deepnote_index_column": 26
        },
        {
         "diameter": 1.272,
         "size": -2.079,
         "_deepnote_index_column": 41
        },
        {
         "diameter": 0.346,
         "size": -0.663,
         "_deepnote_index_column": 60
        },
        {
         "diameter": -0.272,
         "size": 0.753,
         "_deepnote_index_column": 83
        }
       ],
       "rows_bottom": null
      },
      "text/plain": "    diameter   size\n95    -1.353  1.461\n26    -0.272  0.045\n41     1.272 -2.079\n60     0.346 -0.663\n83    -0.272  0.753",
      "text/html": "<div>\n<style scoped>\n    .dataframe tbody tr th:only-of-type {\n        vertical-align: middle;\n    }\n\n    .dataframe tbody tr th {\n        vertical-align: top;\n    }\n\n    .dataframe thead th {\n        text-align: right;\n    }\n</style>\n<table border=\"1\" class=\"dataframe\">\n  <thead>\n    <tr style=\"text-align: right;\">\n      <th></th>\n      <th>diameter</th>\n      <th>size</th>\n    </tr>\n  </thead>\n  <tbody>\n    <tr>\n      <th>95</th>\n      <td>-1.353</td>\n      <td>1.461</td>\n    </tr>\n    <tr>\n      <th>26</th>\n      <td>-0.272</td>\n      <td>0.045</td>\n    </tr>\n    <tr>\n      <th>41</th>\n      <td>1.272</td>\n      <td>-2.079</td>\n    </tr>\n    <tr>\n      <th>60</th>\n      <td>0.346</td>\n      <td>-0.663</td>\n    </tr>\n    <tr>\n      <th>83</th>\n      <td>-0.272</td>\n      <td>0.753</td>\n    </tr>\n  </tbody>\n</table>\n</div>"
     },
     "metadata": {}
    }
   ]
  },
  {
   "cell_type": "code",
   "metadata": {
    "tags": [],
    "cell_id": "00024-2da99c3c-17c8-4ae4-8767-91502c1ccafd",
    "deepnote_to_be_reexecuted": false,
    "source_hash": "127217fa",
    "execution_start": 1633278375623,
    "execution_millis": 3,
    "deepnote_cell_type": "code"
   },
   "source": "X_train, X_test, y_train, y_test = train_test_split(X, y,test_size=0.3, random_state=5, shuffle=True)",
   "execution_count": null,
   "outputs": []
  },
  {
   "cell_type": "code",
   "metadata": {
    "tags": [],
    "cell_id": "00025-f2548555-f466-4684-8745-e80231d5f782",
    "deepnote_to_be_reexecuted": false,
    "source_hash": "3a3811ba",
    "execution_start": 1633278378300,
    "execution_millis": 9,
    "deepnote_cell_type": "code"
   },
   "source": "print(len(X))\nprint(len(X_train))\nprint(len(X_test))",
   "execution_count": null,
   "outputs": [
    {
     "name": "stdout",
     "text": "126\n88\n38\n",
     "output_type": "stream"
    }
   ]
  },
  {
   "cell_type": "markdown",
   "source": "### 2.4. Construcción del modelo",
   "metadata": {
    "tags": [],
    "cell_id": "00029-7f7904e7-120a-4b40-9bc5-8a7a1646e10b",
    "deepnote_cell_type": "markdown"
   }
  },
  {
   "cell_type": "markdown",
   "source": "Como se ha venido mencionando a lo largo de nuestro analisis, usaremos com modelo la regresión lineal y para analizar la validación usaremos cross validation y promediaremos el resultado.",
   "metadata": {
    "tags": [],
    "cell_id": "00047-c478a510-f101-41ad-b44a-f02569c3a559",
    "deepnote_cell_type": "markdown"
   }
  },
  {
   "cell_type": "code",
   "metadata": {
    "tags": [],
    "cell_id": "00026-9dcd9125-5624-4663-96c4-e0cf06b2aa04",
    "deepnote_to_be_reexecuted": false,
    "source_hash": "255462e3",
    "execution_start": 1633278380287,
    "execution_millis": 10,
    "deepnote_cell_type": "code"
   },
   "source": "regressor = LinearRegression()\nregressor.fit(X_train, y_train)",
   "execution_count": null,
   "outputs": [
    {
     "output_type": "execute_result",
     "execution_count": 85,
     "data": {
      "text/plain": "LinearRegression()"
     },
     "metadata": {}
    }
   ]
  },
  {
   "cell_type": "code",
   "metadata": {
    "tags": [],
    "cell_id": "00027-e40f8ca5-fc77-4f81-a027-ac287e85d144",
    "deepnote_to_be_reexecuted": false,
    "source_hash": "13fefae4",
    "execution_start": 1633278382003,
    "execution_millis": 30,
    "deepnote_cell_type": "code"
   },
   "source": "scores = cross_val_score(LinearRegression(),X, y, cv=5, scoring='r2')\nscores.mean() ",
   "execution_count": null,
   "outputs": [
    {
     "output_type": "execute_result",
     "execution_count": 86,
     "data": {
      "text/plain": "0.578085457803069"
     },
     "metadata": {}
    }
   ]
  },
  {
   "cell_type": "markdown",
   "source": "Nuestro modelo presenta una eficiencia de 57% el cual no es muy buen número para poder predecir nuestros resultados y pasarlo a producción, en este punto se pueden realizar dos cosas, volver a analizar nuestros datos y trabajar o crear más features que nos permitan mejorar nuestra precisión, ese proceso es conocido como feature enginer y Scikit learn nos ofrece herramientas para poder hacer este analisís. La otra opción que podemos hacer es recolectar más datos y asi poder tener mejores resultados.",
   "metadata": {
    "tags": [],
    "cell_id": "00050-fb63cc53-4b1a-42c1-aa79-4a0143ac560f",
    "deepnote_cell_type": "markdown"
   }
  },
  {
   "cell_type": "code",
   "metadata": {
    "tags": [],
    "cell_id": "00028-7efe9440-2415-4057-a5e1-695e8bf2819b",
    "deepnote_to_be_reexecuted": false,
    "source_hash": "b11ebd98",
    "execution_start": 1633278383790,
    "execution_millis": 8,
    "deepnote_cell_type": "code"
   },
   "source": "regressor.coef_",
   "execution_count": null,
   "outputs": [
    {
     "output_type": "execute_result",
     "execution_count": 87,
     "data": {
      "text/plain": "array([1.16205531, 0.38671378])"
     },
     "metadata": {}
    }
   ]
  },
  {
   "cell_type": "markdown",
   "source": "### 2.3. Error de nuestro modelo",
   "metadata": {
    "tags": [],
    "cell_id": "00039-9a267136-907f-46cb-baed-c105062b317a",
    "deepnote_cell_type": "markdown"
   }
  },
  {
   "cell_type": "markdown",
   "source": "Como paso fnal, analizaremos el error de nuestro modelo usando como metrica el error cuadrático medio. ",
   "metadata": {
    "tags": [],
    "cell_id": "00054-480d684b-2abe-44bb-a80f-f5ed2023957f",
    "deepnote_cell_type": "markdown"
   }
  },
  {
   "cell_type": "code",
   "metadata": {
    "tags": [],
    "cell_id": "00039-5c455248-e701-454a-b471-5bff5c754235",
    "deepnote_to_be_reexecuted": false,
    "source_hash": "313dac20",
    "execution_start": 1633278385999,
    "execution_millis": 21,
    "deepnote_cell_type": "code"
   },
   "source": "predicciones = regressor.predict(X=X_test)\nrms = mean_squared_error(y_true=y_test, y_pred=predicciones, squared=False)\nrms",
   "execution_count": null,
   "outputs": [
    {
     "output_type": "execute_result",
     "execution_count": 88,
     "data": {
      "text/plain": "0.4086031282741621"
     },
     "metadata": {}
    }
   ]
  },
  {
   "cell_type": "markdown",
   "source": "<a style='text-decoration:none;line-height:16px;display:flex;color:#5B5B62;padding:10px;justify-content:end;' href='https://deepnote.com?utm_source=created-in-deepnote-cell&projectId=ae02d810-34d9-4474-8459-42c689340f39' target=\"_blank\">\n<img alt='Created in deepnote.com' style='display:inline;max-height:16px;margin:0px;margin-right:7.5px;' src='data:image/svg+xml;base64,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' > </img>\nCreated in <span style='font-weight:600;margin-left:4px;'>Deepnote</span></a>",
   "metadata": {
    "tags": [],
    "created_in_deepnote_cell": true,
    "deepnote_cell_type": "markdown"
   }
  }
 ],
 "nbformat": 4,
 "nbformat_minor": 2,
 "metadata": {
  "orig_nbformat": 2,
  "deepnote": {
   "is_reactive": false
  },
  "deepnote_notebook_id": "6a7f6840-ebef-459f-95cd-020f633550a9",
  "deepnote_execution_queue": []
 }
}